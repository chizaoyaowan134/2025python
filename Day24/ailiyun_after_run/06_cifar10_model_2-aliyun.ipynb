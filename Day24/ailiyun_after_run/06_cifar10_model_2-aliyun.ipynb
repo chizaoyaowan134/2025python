{
 "cells": [
  {
   "cell_type": "markdown",
   "id": "da34c2cb9e14850c",
   "metadata": {},
   "source": [
    "<font color=\"red\">注</font>: 使用 tensorboard 可视化需要安装 tensorflow (TensorBoard依赖于tensorflow库，可以任意安装tensorflow的gpu/cpu版本)\n",
    "\n",
    "```shell\n",
    "pip install tensorflow-cpu\n",
    "```"
   ]
  },
  {
   "cell_type": "code",
   "execution_count": 9,
   "id": "9a33667ab1c5a38e",
   "metadata": {
    "ExecuteTime": {
     "end_time": "2025-02-10T04:13:35.308001Z",
     "start_time": "2025-02-10T04:13:30.426890Z"
    },
    "execution": {
     "iopub.execute_input": "2025-02-10T05:12:51.222468Z",
     "iopub.status.busy": "2025-02-10T05:12:51.222172Z",
     "iopub.status.idle": "2025-02-10T05:12:51.228897Z",
     "shell.execute_reply": "2025-02-10T05:12:51.228447Z",
     "shell.execute_reply.started": "2025-02-10T05:12:51.222445Z"
    },
    "tags": []
   },
   "outputs": [
    {
     "name": "stdout",
     "output_type": "stream",
     "text": [
      "sys.version_info(major=3, minor=10, micro=14, releaselevel='final', serial=0)\n",
      "matplotlib 3.10.0\n",
      "numpy 1.26.4\n",
      "pandas 2.2.3\n",
      "sklearn 1.6.0\n",
      "torch 2.5.1+cu124\n",
      "cuda:0\n"
     ]
    }
   ],
   "source": [
    "import matplotlib as mpl\n",
    "import matplotlib.pyplot as plt\n",
    "%matplotlib inline\n",
    "import numpy as np\n",
    "import sklearn\n",
    "import pandas as pd\n",
    "import os\n",
    "import sys\n",
    "import time\n",
    "from tqdm.auto import tqdm\n",
    "import torch\n",
    "import torch.nn as nn\n",
    "import torch.nn.functional as F\n",
    "\n",
    "print(sys.version_info)\n",
    "for module in mpl, np, pd, sklearn, torch:\n",
    "    print(module.__name__, module.__version__)\n",
    "    \n",
    "device = torch.device(\"cuda:0\") if torch.cuda.is_available() else torch.device(\"cpu\")\n",
    "print(device)\n",
    "\n",
    "seed = 42\n"
   ]
  },
  {
   "cell_type": "markdown",
   "id": "ec51e21ddfb76028",
   "metadata": {},
   "source": [
    "## 数据准备\n",
    "\n",
    "```shell\n",
    "$ tree -L 1 cifar-10                                    \n",
    "cifar-10\n",
    "├── sampleSubmission.csv\n",
    "├── test\n",
    "├── train\n",
    "└── trainLabels.csv\n",
    "```"
   ]
  },
  {
   "cell_type": "code",
   "execution_count": 10,
   "id": "25e3729dd691dac0",
   "metadata": {
    "ExecuteTime": {
     "end_time": "2025-02-10T04:13:55.906216Z",
     "start_time": "2025-02-10T04:13:53.571661Z"
    },
    "execution": {
     "iopub.execute_input": "2025-02-10T05:12:53.354437Z",
     "iopub.status.busy": "2025-02-10T05:12:53.354122Z",
     "iopub.status.idle": "2025-02-10T05:12:54.052918Z",
     "shell.execute_reply": "2025-02-10T05:12:54.052378Z",
     "shell.execute_reply.started": "2025-02-10T05:12:53.354418Z"
    },
    "tags": []
   },
   "outputs": [
    {
     "name": "stdout",
     "output_type": "stream",
     "text": [
      "kaggle                            1.6.17\n",
      "\n",
      "\u001b[1m[\u001b[0m\u001b[34;49mnotice\u001b[0m\u001b[1;39;49m]\u001b[0m\u001b[39;49m A new release of pip is available: \u001b[0m\u001b[31;49m23.3.2\u001b[0m\u001b[39;49m -> \u001b[0m\u001b[32;49m25.0\u001b[0m\n",
      "\u001b[1m[\u001b[0m\u001b[34;49mnotice\u001b[0m\u001b[1;39;49m]\u001b[0m\u001b[39;49m To update, run: \u001b[0m\u001b[32;49mpip install --upgrade pip\u001b[0m\n"
     ]
    }
   ],
   "source": [
    "!pip list|grep kaggle"
   ]
  },
  {
   "cell_type": "code",
   "execution_count": 11,
   "id": "517ce1b2ffa4471e",
   "metadata": {
    "execution": {
     "iopub.execute_input": "2025-02-10T05:12:55.320677Z",
     "iopub.status.busy": "2025-02-10T05:12:55.320346Z",
     "iopub.status.idle": "2025-02-10T05:12:55.960514Z",
     "shell.execute_reply": "2025-02-10T05:12:55.959964Z",
     "shell.execute_reply.started": "2025-02-10T05:12:55.320656Z"
    },
    "tags": []
   },
   "outputs": [
    {
     "name": "stdout",
     "output_type": "stream",
     "text": [
      "- path is now set to: /content\n"
     ]
    }
   ],
   "source": [
    "!mkdir -p ~/.kaggle\n",
    "!cp /mnt/workspace/kaggle.json ~/.kaggle/\n",
    "!chmod 600 ~/.kaggle/kaggle.json\n",
    "!kaggle config set -n path -v /content"
   ]
  },
  {
   "cell_type": "code",
   "execution_count": 15,
   "id": "f1a8673b65dc1cd1",
   "metadata": {
    "execution": {
     "iopub.execute_input": "2025-02-10T05:21:48.975243Z",
     "iopub.status.busy": "2025-02-10T05:21:48.974916Z",
     "iopub.status.idle": "2025-02-10T05:22:54.900745Z",
     "shell.execute_reply": "2025-02-10T05:22:54.900062Z",
     "shell.execute_reply.started": "2025-02-10T05:21:48.975222Z"
    },
    "tags": []
   },
   "outputs": [
    {
     "name": "stdout",
     "output_type": "stream",
     "text": [
      "Downloading cifar-10.zip to /content/competitions/cifar-10\n",
      "100%|███████████████████████████████████████▉| 715M/715M [01:03<00:00, 15.1MB/s]\n",
      "100%|████████████████████████████████████████| 715M/715M [01:03<00:00, 11.8MB/s]\n"
     ]
    }
   ],
   "source": [
    "!kaggle competitions download -c cifar-10 #下载比赛数据集"
   ]
  },
  {
   "cell_type": "code",
   "execution_count": 22,
   "id": "397a960a9eebc7b2",
   "metadata": {
    "execution": {
     "iopub.execute_input": "2025-02-10T05:25:03.213189Z",
     "iopub.status.busy": "2025-02-10T05:25:03.212879Z",
     "iopub.status.idle": "2025-02-10T05:25:03.330841Z",
     "shell.execute_reply": "2025-02-10T05:25:03.330299Z",
     "shell.execute_reply.started": "2025-02-10T05:25:03.213170Z"
    },
    "tags": []
   },
   "outputs": [
    {
     "name": "stdout",
     "output_type": "stream",
     "text": [
      "cifar-10.zip\n"
     ]
    }
   ],
   "source": [
    "!ls /content/competitions/cifar-10/"
   ]
  },
  {
   "cell_type": "code",
   "execution_count": 17,
   "id": "d685e08643d01489",
   "metadata": {
    "execution": {
     "iopub.execute_input": "2025-02-10T05:23:50.011536Z",
     "iopub.status.busy": "2025-02-10T05:23:50.011202Z",
     "iopub.status.idle": "2025-02-10T05:23:53.733507Z",
     "shell.execute_reply": "2025-02-10T05:23:53.732989Z",
     "shell.execute_reply.started": "2025-02-10T05:23:50.011514Z"
    },
    "tags": []
   },
   "outputs": [
    {
     "name": "stdout",
     "output_type": "stream",
     "text": [
      "Archive:  /content/competitions/cifar-10/cifar-10.zip\n",
      "  inflating: sampleSubmission.csv    \n",
      "  inflating: test.7z                 \n",
      "  inflating: train.7z                \n",
      "  inflating: trainLabels.csv         \n"
     ]
    }
   ],
   "source": [
    "!unzip /content/competitions/cifar-10/cifar-10.zip"
   ]
  },
  {
   "cell_type": "code",
   "execution_count": 18,
   "id": "47d93c8a69284ba1",
   "metadata": {
    "execution": {
     "iopub.execute_input": "2025-02-10T05:23:56.014456Z",
     "iopub.status.busy": "2025-02-10T05:23:56.014119Z",
     "iopub.status.idle": "2025-02-10T05:23:56.127780Z",
     "shell.execute_reply": "2025-02-10T05:23:56.127282Z",
     "shell.execute_reply.started": "2025-02-10T05:23:56.014433Z"
    },
    "tags": []
   },
   "outputs": [
    {
     "name": "stdout",
     "output_type": "stream",
     "text": [
      "01-classification_model-cnn-Aliyun.ipynb\t       data\n",
      "02_classification_model-cnn-selu.ipynb\t\t       kaggle.json\n",
      "03_classification_model-separable_cnn.ipynb\t       runs\n",
      "04_10_monkeys_model_1_aliyun.ipynb\t\t       sampleSubmission.csv\n",
      "04_10_monkeys_model_2.ipynb\t\t\t       test.7z\n",
      "05_10_monkeys_model_2_resnet50_finetune_2aliyun.ipynb  train.7z\n",
      "06_cifar10_model_2-aliyun.ipynb\t\t\t       trainLabels.csv\n",
      "checkpoints\n"
     ]
    }
   ],
   "source": [
    "!ls"
   ]
  },
  {
   "cell_type": "code",
   "execution_count": 20,
   "id": "19ef4caf-b763-42f4-bf9f-f781392a91e5",
   "metadata": {
    "execution": {
     "iopub.execute_input": "2025-02-10T05:24:25.289612Z",
     "iopub.status.busy": "2025-02-10T05:24:25.289294Z",
     "iopub.status.idle": "2025-02-10T05:24:32.219020Z",
     "shell.execute_reply": "2025-02-10T05:24:32.218438Z",
     "shell.execute_reply.started": "2025-02-10T05:24:25.289591Z"
    },
    "tags": []
   },
   "outputs": [
    {
     "name": "stdout",
     "output_type": "stream",
     "text": [
      "Looking in indexes: https://mirrors.cloud.aliyuncs.com/pypi/simple\n",
      "Collecting py7zr\n",
      "  Downloading https://mirrors.cloud.aliyuncs.com/pypi/packages/d0/59/dd1750002c0f46099281116f8165247bc62dc85edad41cdd26e7b26de19d/py7zr-0.22.0-py3-none-any.whl (67 kB)\n",
      "\u001b[2K     \u001b[90m━━━━━━━━━━━━━━━━━━━━━━━━━━━━━━━━━━━━━━━━\u001b[0m \u001b[32m67.9/67.9 kB\u001b[0m \u001b[31m5.7 MB/s\u001b[0m eta \u001b[36m0:00:00\u001b[0m\n",
      "\u001b[?25hCollecting texttable (from py7zr)\n",
      "  Downloading https://mirrors.cloud.aliyuncs.com/pypi/packages/24/99/4772b8e00a136f3e01236de33b0efda31ee7077203ba5967fcc76da94d65/texttable-1.7.0-py2.py3-none-any.whl (10 kB)\n",
      "Collecting pycryptodomex>=3.16.0 (from py7zr)\n",
      "  Downloading https://mirrors.cloud.aliyuncs.com/pypi/packages/46/3f/f5bef92b11750af9e3516d4e69736eeeff20a2818d34611508bef5a7b381/pycryptodomex-3.21.0-cp36-abi3-manylinux_2_17_x86_64.manylinux2014_x86_64.whl (2.3 MB)\n",
      "\u001b[2K     \u001b[90m━━━━━━━━━━━━━━━━━━━━━━━━━━━━━━━━━━━━━━━━\u001b[0m \u001b[32m2.3/2.3 MB\u001b[0m \u001b[31m52.5 MB/s\u001b[0m eta \u001b[36m0:00:00\u001b[0ma \u001b[36m0:00:01\u001b[0m\n",
      "\u001b[?25hCollecting pyzstd>=0.15.9 (from py7zr)\n",
      "  Downloading https://mirrors.cloud.aliyuncs.com/pypi/packages/6b/3e/e4c7f449af9d19975ff5d333a58330317cf8b05fe4754106c694a29e7c25/pyzstd-0.16.2-cp310-cp310-manylinux_2_17_x86_64.manylinux2014_x86_64.whl (413 kB)\n",
      "\u001b[2K     \u001b[90m━━━━━━━━━━━━━━━━━━━━━━━━━━━━━━━━━━━━━\u001b[0m \u001b[32m413.7/413.7 kB\u001b[0m \u001b[31m112.8 MB/s\u001b[0m eta \u001b[36m0:00:00\u001b[0m\n",
      "\u001b[?25hCollecting pyppmd<1.2.0,>=1.1.0 (from py7zr)\n",
      "  Downloading https://mirrors.cloud.aliyuncs.com/pypi/packages/8f/f7/be56704aef53490da6bbe6e2e7efff3c13383310ac71f8a82d15d84bbedb/pyppmd-1.1.1-cp310-cp310-manylinux_2_17_x86_64.manylinux2014_x86_64.whl (138 kB)\n",
      "\u001b[2K     \u001b[90m━━━━━━━━━━━━━━━━━━━━━━━━━━━━━━━━━━━━━━\u001b[0m \u001b[32m139.0/139.0 kB\u001b[0m \u001b[31m40.6 MB/s\u001b[0m eta \u001b[36m0:00:00\u001b[0m\n",
      "\u001b[?25hCollecting pybcj<1.1.0,>=1.0.0 (from py7zr)\n",
      "  Downloading https://mirrors.cloud.aliyuncs.com/pypi/packages/d0/6a/3937d0915590d91ccab40b687a1c87429b17325240e8db7e9ad828c9cae9/pybcj-1.0.3-cp310-cp310-manylinux_2_17_x86_64.manylinux2014_x86_64.whl (49 kB)\n",
      "\u001b[2K     \u001b[90m━━━━━━━━━━━━━━━━━━━━━━━━━━━━━━━━━━━━━━━━\u001b[0m \u001b[32m49.6/49.6 kB\u001b[0m \u001b[31m20.1 MB/s\u001b[0m eta \u001b[36m0:00:00\u001b[0m\n",
      "\u001b[?25hCollecting multivolumefile>=0.2.3 (from py7zr)\n",
      "  Downloading https://mirrors.cloud.aliyuncs.com/pypi/packages/22/31/ec5f46fd4c83185b806aa9c736e228cb780f13990a9cf4da0beb70025fcc/multivolumefile-0.2.3-py3-none-any.whl (17 kB)\n",
      "Collecting inflate64<1.1.0,>=1.0.0 (from py7zr)\n",
      "  Downloading https://mirrors.cloud.aliyuncs.com/pypi/packages/b3/3f/1af3164e8bda3fdce692c260f01e37c0af21c3022e7227795524505d8b21/inflate64-1.0.1-cp310-cp310-manylinux_2_17_x86_64.manylinux2014_x86_64.whl (93 kB)\n",
      "\u001b[2K     \u001b[90m━━━━━━━━━━━━━━━━━━━━━━━━━━━━━━━━━━━━━━━━\u001b[0m \u001b[32m93.3/93.3 kB\u001b[0m \u001b[31m36.0 MB/s\u001b[0m eta \u001b[36m0:00:00\u001b[0m\n",
      "\u001b[?25hCollecting brotli>=1.1.0 (from py7zr)\n",
      "  Downloading https://mirrors.cloud.aliyuncs.com/pypi/packages/d5/00/40f760cc27007912b327fe15bf6bfd8eaecbe451687f72a8abc587d503b3/Brotli-1.1.0-cp310-cp310-manylinux_2_5_x86_64.manylinux1_x86_64.manylinux_2_12_x86_64.manylinux2010_x86_64.whl (3.0 MB)\n",
      "\u001b[2K     \u001b[90m━━━━━━━━━━━━━━━━━━━━━━━━━━━━━━━━━━━━━━━━\u001b[0m \u001b[32m3.0/3.0 MB\u001b[0m \u001b[31m110.6 MB/s\u001b[0m eta \u001b[36m0:00:00\u001b[0m\n",
      "\u001b[?25hRequirement already satisfied: psutil in /usr/local/lib/python3.10/site-packages (from py7zr) (6.1.1)\n",
      "Installing collected packages: texttable, brotli, pyzstd, pyppmd, pycryptodomex, pybcj, multivolumefile, inflate64, py7zr\n",
      "Successfully installed brotli-1.1.0 inflate64-1.0.1 multivolumefile-0.2.3 py7zr-0.22.0 pybcj-1.0.3 pycryptodomex-3.21.0 pyppmd-1.1.1 pyzstd-0.16.2 texttable-1.7.0\n",
      "\u001b[33mWARNING: Running pip as the 'root' user can result in broken permissions and conflicting behaviour with the system package manager. It is recommended to use a virtual environment instead: https://pip.pypa.io/warnings/venv\u001b[0m\u001b[33m\n",
      "\u001b[0m\n",
      "\u001b[1m[\u001b[0m\u001b[34;49mnotice\u001b[0m\u001b[1;39;49m]\u001b[0m\u001b[39;49m A new release of pip is available: \u001b[0m\u001b[31;49m23.3.2\u001b[0m\u001b[39;49m -> \u001b[0m\u001b[32;49m25.0\u001b[0m\n",
      "\u001b[1m[\u001b[0m\u001b[34;49mnotice\u001b[0m\u001b[1;39;49m]\u001b[0m\u001b[39;49m To update, run: \u001b[0m\u001b[32;49mpip install --upgrade pip\u001b[0m\n"
     ]
    }
   ],
   "source": [
    "!pip install py7zr"
   ]
  },
  {
   "cell_type": "code",
   "execution_count": 21,
   "id": "bce19095d04c895e",
   "metadata": {
    "execution": {
     "iopub.execute_input": "2025-02-10T05:24:34.894844Z",
     "iopub.status.busy": "2025-02-10T05:24:34.894499Z",
     "iopub.status.idle": "2025-02-10T05:24:48.946210Z",
     "shell.execute_reply": "2025-02-10T05:24:48.945725Z",
     "shell.execute_reply.started": "2025-02-10T05:24:34.894815Z"
    },
    "tags": []
   },
   "outputs": [],
   "source": [
    "# （已注释掉的安装命令）安装py7zr库用于处理7z压缩文件\n",
    "# %pip install py7zr\n",
    "\n",
    "# 导入py7zr库中的必要模块（实际需要完整导入库）\n",
    "import py7zr  # 正确导入应该是这行，但原代码中该行被注释\n",
    "\n",
    "# 创建SevenZipFile对象，打开当前目录下的train.7z文件，以只读模式访问\n",
    "a = py7zr.SevenZipFile(r'./train.7z','r')\n",
    "#           │           │       │\n",
    "#           │           │       └─ 打开模式：r表示读取（解压）\n",
    "#           │           └─ 原始压缩文件路径（使用原始字符串避免转义）\n",
    "#           └─ 7z文件处理器类\n",
    "\n",
    "# 将压缩包内容全部解压到指定目录（注意路径使用原始字符串）\n",
    "a.extractall(path=r'./competitions/cifar-10/')\n",
    "#     │            └─ 目标解压路径（会自动创建不存在的目录）\n",
    "#     └─ 解压全部内容的方法\n",
    "\n",
    "# 显式关闭压缩文件句柄（推荐使用with语句自动管理）\n",
    "a.close()"
   ]
  },
  {
   "cell_type": "code",
   "execution_count": 23,
   "id": "3058af65f6007ef0",
   "metadata": {
    "execution": {
     "iopub.execute_input": "2025-02-10T05:25:44.202220Z",
     "iopub.status.busy": "2025-02-10T05:25:44.201878Z",
     "iopub.status.idle": "2025-02-10T05:27:05.738311Z",
     "shell.execute_reply": "2025-02-10T05:27:05.737832Z",
     "shell.execute_reply.started": "2025-02-10T05:25:44.202199Z"
    },
    "tags": []
   },
   "outputs": [],
   "source": [
    "a =py7zr.SevenZipFile(r'./test.7z','r')\n",
    "a.extractall(path=r'./competitions/cifar-10/')\n",
    "a.close()"
   ]
  },
  {
   "cell_type": "code",
   "execution_count": 24,
   "id": "ec0d562c9e823d9d",
   "metadata": {
    "execution": {
     "iopub.execute_input": "2025-02-10T05:28:08.384485Z",
     "iopub.status.busy": "2025-02-10T05:28:08.384165Z",
     "iopub.status.idle": "2025-02-10T05:28:08.574977Z",
     "shell.execute_reply": "2025-02-10T05:28:08.574390Z",
     "shell.execute_reply.started": "2025-02-10T05:28:08.384466Z"
    },
    "tags": []
   },
   "outputs": [
    {
     "name": "stdout",
     "output_type": "stream",
     "text": [
      "50000\n"
     ]
    }
   ],
   "source": [
    "!ls competitions/cifar-10/train/ |wc -l  #wc -l统计数量"
   ]
  },
  {
   "cell_type": "code",
   "execution_count": 25,
   "id": "5e1428c06d9e421",
   "metadata": {
    "execution": {
     "iopub.execute_input": "2025-02-10T05:28:09.699276Z",
     "iopub.status.busy": "2025-02-10T05:28:09.698927Z",
     "iopub.status.idle": "2025-02-10T05:28:09.888794Z",
     "shell.execute_reply": "2025-02-10T05:28:09.888256Z",
     "shell.execute_reply.started": "2025-02-10T05:28:09.699255Z"
    },
    "tags": []
   },
   "outputs": [
    {
     "name": "stdout",
     "output_type": "stream",
     "text": [
      "50000\n"
     ]
    }
   ],
   "source": [
    "!ls competitions/cifar-10/train/ |wc -l "
   ]
  },
  {
   "cell_type": "code",
   "execution_count": 26,
   "id": "1966fb252fba6dc0",
   "metadata": {
    "execution": {
     "iopub.execute_input": "2025-02-10T05:28:56.815535Z",
     "iopub.status.busy": "2025-02-10T05:28:56.815189Z",
     "iopub.status.idle": "2025-02-10T05:28:58.922445Z",
     "shell.execute_reply": "2025-02-10T05:28:58.921998Z",
     "shell.execute_reply.started": "2025-02-10T05:28:56.815513Z"
    }
   },
   "outputs": [
    {
     "name": "stdout",
     "output_type": "stream",
     "text": [
      "[(PosixPath('competitions/cifar-10/train/1.png'), 'frog'),\n",
      " (PosixPath('competitions/cifar-10/train/2.png'), 'truck'),\n",
      " (PosixPath('competitions/cifar-10/train/3.png'), 'truck'),\n",
      " (PosixPath('competitions/cifar-10/train/4.png'), 'deer'),\n",
      " (PosixPath('competitions/cifar-10/train/5.png'), 'automobile')]\n",
      "[(PosixPath('competitions/cifar-10/test/1.png'), 'cat'),\n",
      " (PosixPath('competitions/cifar-10/test/2.png'), 'cat'),\n",
      " (PosixPath('competitions/cifar-10/test/3.png'), 'cat'),\n",
      " (PosixPath('competitions/cifar-10/test/4.png'), 'cat'),\n",
      " (PosixPath('competitions/cifar-10/test/5.png'), 'cat')]\n",
      "50000 300000\n"
     ]
    }
   ],
   "source": [
    "from pathlib import Path\n",
    "\n",
    "DATA_DIR = Path(\".\")\n",
    "DATA_DIR1 =Path(\"competitions/cifar-10/\")\n",
    "train_lables_file = DATA_DIR / \"trainLabels.csv\"\n",
    "test_csv_file = DATA_DIR / \"sampleSubmission.csv\" #测试集模板csv文件\n",
    "train_folder = DATA_DIR1 / \"train\"\n",
    "test_folder = DATA_DIR1 / \"test\"\n",
    "\n",
    "#所有的类别\n",
    "class_names = [\n",
    "    'airplane',\n",
    "    'automobile',\n",
    "    'bird',\n",
    "    'cat',\n",
    "    'deer',\n",
    "    'dog',\n",
    "    'frog',\n",
    "    'horse',\n",
    "    'ship',\n",
    "    'truck',\n",
    "]\n",
    "\n",
    "def parse_csv_file(filepath, folder): #filepath:csv文件路径，folder:图片所在文件夹\n",
    "    \"\"\"Parses csv files into (filename(path), label) format\"\"\"\n",
    "    results = []\n",
    "    #读取所有行\n",
    "    with open(filepath, 'r') as f:\n",
    "#         lines = f.readlines()  为什么加[1:]，可以试这个\n",
    "        #第一行不需要，因为第一行是标题\n",
    "        lines = f.readlines()[1:] \n",
    "    for line in lines:#依次去取每一行\n",
    "        image_id, label_str = line.strip('\\n').split(',') #图片id 和标签分离\n",
    "        image_full_path = folder / f\"{image_id}.png\"\n",
    "        results.append((image_full_path, label_str)) #得到对应图片的路径和分类\n",
    "    return results\n",
    "\n",
    "#解析对应的文件夹\n",
    "train_labels_info = parse_csv_file(train_lables_file, train_folder)\n",
    "test_csv_info = parse_csv_file(test_csv_file, test_folder)\n",
    "#打印\n",
    "import pprint\n",
    "pprint.pprint(train_labels_info[0:5])\n",
    "pprint.pprint(test_csv_info[0:5])\n",
    "print(len(train_labels_info), len(test_csv_info))"
   ]
  },
  {
   "cell_type": "code",
   "execution_count": 27,
   "id": "d85452e635a5fab",
   "metadata": {
    "execution": {
     "iopub.execute_input": "2025-02-10T05:29:06.501496Z",
     "iopub.status.busy": "2025-02-10T05:29:06.501171Z",
     "iopub.status.idle": "2025-02-10T05:29:06.557123Z",
     "shell.execute_reply": "2025-02-10T05:29:06.556696Z",
     "shell.execute_reply.started": "2025-02-10T05:29:06.501477Z"
    },
    "tags": []
   },
   "outputs": [
    {
     "name": "stdout",
     "output_type": "stream",
     "text": [
      "                            filepath       class\n",
      "0  competitions/cifar-10/train/1.png        frog\n",
      "1  competitions/cifar-10/train/2.png       truck\n",
      "2  competitions/cifar-10/train/3.png       truck\n",
      "3  competitions/cifar-10/train/4.png        deer\n",
      "4  competitions/cifar-10/train/5.png  automobile\n",
      "                                filepath       class\n",
      "0  competitions/cifar-10/train/45001.png       horse\n",
      "1  competitions/cifar-10/train/45002.png  automobile\n",
      "2  competitions/cifar-10/train/45003.png        deer\n",
      "3  competitions/cifar-10/train/45004.png  automobile\n",
      "4  competitions/cifar-10/train/45005.png    airplane\n",
      "                           filepath class\n",
      "0  competitions/cifar-10/test/1.png   cat\n",
      "1  competitions/cifar-10/test/2.png   cat\n",
      "2  competitions/cifar-10/test/3.png   cat\n",
      "3  competitions/cifar-10/test/4.png   cat\n",
      "4  competitions/cifar-10/test/5.png   cat\n"
     ]
    }
   ],
   "source": [
    "# train_df = pd.DataFrame(train_labels_info)\n",
    "train_df = pd.DataFrame(train_labels_info[0:45000]) # 取前45000张图片作为训练集\n",
    "valid_df = pd.DataFrame(train_labels_info[45000:]) # 取后5000张图片作为验证集\n",
    "test_df = pd.DataFrame(test_csv_info)\n",
    "\n",
    "train_df.columns = ['filepath', 'class']\n",
    "valid_df.columns = ['filepath', 'class']\n",
    "test_df.columns = ['filepath', 'class']\n",
    "\n",
    "print(train_df.head())\n",
    "print(valid_df.head())\n",
    "print(test_df.head())"
   ]
  },
  {
   "cell_type": "code",
   "execution_count": 28,
   "id": "f9614f4c3c20c031",
   "metadata": {
    "execution": {
     "iopub.execute_input": "2025-02-10T05:29:32.344144Z",
     "iopub.status.busy": "2025-02-10T05:29:32.343675Z",
     "iopub.status.idle": "2025-02-10T05:29:33.032165Z",
     "shell.execute_reply": "2025-02-10T05:29:33.031711Z",
     "shell.execute_reply.started": "2025-02-10T05:29:32.344121Z"
    }
   },
   "outputs": [],
   "source": [
    "from PIL import Image  # 导入PIL库的Image模块，用于打开和处理图像\n",
    "from torch.utils.data import Dataset, DataLoader  # 从PyTorch中导入Dataset和DataLoader类\n",
    "from torchvision import transforms  # 从torchvision库中导入transforms模块\n",
    "\n",
    "# 自定义CIFAR-10数据集类，继承自PyTorch的Dataset类\n",
    "class Cifar10Dataset(Dataset):\n",
    "    # 定义一个字典，将模式（'train'、'eval'、'test'）映射到相应的数据帧\n",
    "    df_map = {\n",
    "        \"train\": train_df,  # 训练集数据帧\n",
    "        \"eval\": valid_df,   # 验证集数据帧\n",
    "        \"test\": test_df     # 测试集数据帧\n",
    "    }\n",
    "    # 创建一个字典，将类别名称映射到索引（例如，'airplane' -> 0）\n",
    "    label_to_idx = {label: idx for idx, label in enumerate(class_names)}\n",
    "    # 创建一个字典，将索引映射回类别名称（例如，0 -> 'airplane'）\n",
    "    idx_to_label = {idx: label for idx, label in enumerate(class_names)}\n",
    "\n",
    "    def __init__(self, mode, transform=None):\n",
    "        \"\"\"\n",
    "        初始化Cifar10Dataset类的实例。\n",
    "\n",
    "        参数:\n",
    "        mode (str): 数据集模式，应为 'train'、'eval' 或 'test' 之一。\n",
    "        transform (callable, optional): 对图像应用的变换操作。\n",
    "        \"\"\"\n",
    "        # 根据提供的模式从df_map字典中获取相应的数据帧\n",
    "        self.df = self.df_map.get(mode, None)\n",
    "        # 如果提供的模式无效，抛出一个ValueError\n",
    "        if self.df is None:\n",
    "            raise ValueError(\"mode should be one of 'train', 'eval', 'test', but got {}\".format(mode))\n",
    "        self.transform = transform  # 设置图像变换\n",
    "\n",
    "    def __getitem__(self, index):\n",
    "        \"\"\"\n",
    "        获取数据集中指定索引的样本。\n",
    "\n",
    "        参数:\n",
    "        index (int): 样本的索引。\n",
    "\n",
    "        返回:\n",
    "        tuple: 包含图像和对应标签的元组。\n",
    "        \"\"\"\n",
    "        # 从数据帧中获取指定索引的图像路径和标签\n",
    "        img_path, label = self.df.iloc[index]\n",
    "        # 打开图像并转换为RGB模式\n",
    "        img = Image.open(img_path).convert('RGB')\n",
    "        # 如果定义了变换操作，则对图像应用变换\n",
    "        if self.transform:\n",
    "            img = self.transform(img)\n",
    "        # 将标签从类别名称转换为对应的索引\n",
    "        label = self.label_to_idx[label]\n",
    "        return img, label  # 返回图像和标签\n",
    "\n",
    "    def __len__(self):\n",
    "        \"\"\"\n",
    "        返回数据集的大小。\n",
    "\n",
    "        返回:\n",
    "        int: 数据集中的样本数量。\n",
    "        \"\"\"\n",
    "        return len(self.df)  # 返回数据帧的行数，即样本数量\n",
    "\n",
    "# 定义图像的目标大小\n",
    "IMAGE_SIZE = 32\n",
    "# 定义CIFAR-10数据集的均值和标准差，用于图像标准化\n",
    "mean, std = [0.4914, 0.4822, 0.4465], [0.247, 0.243, 0.261]\n",
    "\n",
    "# 定义训练集的图像变换操作\n",
    "transforms_train = transforms.Compose([\n",
    "    transforms.Resize((IMAGE_SIZE, IMAGE_SIZE)),  # 调整图像大小\n",
    "    transforms.RandomRotation(40),  # 随机旋转图像，旋转角度在40度以内\n",
    "    transforms.RandomHorizontalFlip(),  # 随机水平翻转图像\n",
    "    transforms.ToTensor(),  # 将图像转换为PyTorch张量，并将像素值缩放到[0, 1]范围\n",
    "    # transforms.Normalize(mean, std)  # 使用预定义的均值和标准差对图像进行标准化\n",
    "])\n",
    "\n",
    "# 定义验证集和测试集的图像变换操作\n",
    "transforms_eval = transforms.Compose([\n",
    "    transforms.Resize((IMAGE_SIZE, IMAGE_SIZE)),  # 调整图像大小\n",
    "    transforms.ToTensor(),  # 将图像转换为PyTorch张量\n",
    "    # transforms.Normalize(mean, std)  # 对图像进行标准化\n",
    "])\n",
    "\n",
    "# 创建训练集和验证集的数据集实例\n",
    "train_ds = Cifar10Dataset(\"train\", transforms_train)  # 训练集\n",
    "eval_ds = Cifar10Dataset(\"eval\", transforms_eval)     # 验证集\n"
   ]
  },
  {
   "cell_type": "code",
   "execution_count": 29,
   "id": "669ab6335c09f2c9",
   "metadata": {
    "execution": {
     "iopub.execute_input": "2025-02-10T05:29:33.033487Z",
     "iopub.status.busy": "2025-02-10T05:29:33.033018Z",
     "iopub.status.idle": "2025-02-10T05:29:33.040374Z",
     "shell.execute_reply": "2025-02-10T05:29:33.040007Z",
     "shell.execute_reply.started": "2025-02-10T05:29:33.033468Z"
    }
   },
   "outputs": [
    {
     "data": {
      "text/plain": [
       "6"
      ]
     },
     "execution_count": 29,
     "metadata": {},
     "output_type": "execute_result"
    }
   ],
   "source": [
    "train_ds[0][1]"
   ]
  },
  {
   "cell_type": "code",
   "execution_count": 30,
   "id": "cf42c0fee3e9777b",
   "metadata": {
    "execution": {
     "iopub.execute_input": "2025-02-10T05:29:33.041004Z",
     "iopub.status.busy": "2025-02-10T05:29:33.040831Z",
     "iopub.status.idle": "2025-02-10T05:29:33.045084Z",
     "shell.execute_reply": "2025-02-10T05:29:33.044674Z",
     "shell.execute_reply.started": "2025-02-10T05:29:33.040989Z"
    }
   },
   "outputs": [
    {
     "data": {
      "text/plain": [
       "257.15295"
      ]
     },
     "execution_count": 30,
     "metadata": {},
     "output_type": "execute_result"
    }
   ],
   "source": [
    "sample1=train_ds[0][0]\n",
    "np.sum(sample1[2].numpy())"
   ]
  },
  {
   "cell_type": "code",
   "execution_count": 31,
   "id": "954068d89011b213",
   "metadata": {
    "execution": {
     "iopub.execute_input": "2025-02-10T05:29:33.045828Z",
     "iopub.status.busy": "2025-02-10T05:29:33.045557Z",
     "iopub.status.idle": "2025-02-10T05:29:33.049138Z",
     "shell.execute_reply": "2025-02-10T05:29:33.048771Z",
     "shell.execute_reply.started": "2025-02-10T05:29:33.045812Z"
    }
   },
   "outputs": [
    {
     "name": "stdout",
     "output_type": "stream",
     "text": [
      "{0: 'airplane', 1: 'automobile', 2: 'bird', 3: 'cat', 4: 'deer', 5: 'dog', 6: 'frog', 7: 'horse', 8: 'ship', 9: 'truck'}\n"
     ]
    },
    {
     "data": {
      "text/plain": [
       "{'airplane': 0,\n",
       " 'automobile': 1,\n",
       " 'bird': 2,\n",
       " 'cat': 3,\n",
       " 'deer': 4,\n",
       " 'dog': 5,\n",
       " 'frog': 6,\n",
       " 'horse': 7,\n",
       " 'ship': 8,\n",
       " 'truck': 9}"
      ]
     },
     "execution_count": 31,
     "metadata": {},
     "output_type": "execute_result"
    }
   ],
   "source": [
    "print(train_ds.idx_to_label)  # 类别映射为idx\n",
    "train_ds.label_to_idx # idx映射为类别"
   ]
  },
  {
   "cell_type": "code",
   "execution_count": 32,
   "id": "42e1690baf9a4a3c",
   "metadata": {
    "execution": {
     "iopub.execute_input": "2025-02-10T05:29:33.050502Z",
     "iopub.status.busy": "2025-02-10T05:29:33.050183Z",
     "iopub.status.idle": "2025-02-10T05:29:33.052942Z",
     "shell.execute_reply": "2025-02-10T05:29:33.052465Z",
     "shell.execute_reply.started": "2025-02-10T05:29:33.050487Z"
    }
   },
   "outputs": [],
   "source": [
    "batch_size = 64\n",
    "train_dl = DataLoader(train_ds, batch_size=batch_size, shuffle=True)   \n",
    "eval_dl = DataLoader(eval_ds, batch_size=batch_size, shuffle=False)"
   ]
  },
  {
   "cell_type": "code",
   "execution_count": 33,
   "id": "62edc11faa8db7a3",
   "metadata": {
    "execution": {
     "iopub.execute_input": "2025-02-10T05:29:33.053512Z",
     "iopub.status.busy": "2025-02-10T05:29:33.053374Z",
     "iopub.status.idle": "2025-02-10T05:29:51.169639Z",
     "shell.execute_reply": "2025-02-10T05:29:51.169209Z",
     "shell.execute_reply.started": "2025-02-10T05:29:33.053498Z"
    }
   },
   "outputs": [
    {
     "name": "stdout",
     "output_type": "stream",
     "text": [
      "(tensor([0.4368, 0.4267, 0.3947]), tensor([0.2465, 0.2419, 0.2359]))\n"
     ]
    }
   ],
   "source": [
    "# 遍历train_ds得到每张图片，计算每个通道的均值和方差\n",
    "def cal_mean_std(ds):\n",
    "    mean = 0.\n",
    "    std = 0.\n",
    "    for img, _ in ds:\n",
    "        mean += img.mean(dim=(1, 2))\n",
    "        std += img.std(dim=(1, 2))\n",
    "    mean /= len(ds)\n",
    "    std /= len(ds)\n",
    "    return mean, std\n",
    "\n",
    "# 经过 normalize 后 均值为0，方差为1\n",
    "print(cal_mean_std(train_ds))"
   ]
  },
  {
   "cell_type": "markdown",
   "id": "31a381616e016959",
   "metadata": {},
   "source": [
    "## 定义模型"
   ]
  },
  {
   "cell_type": "code",
   "execution_count": 34,
   "id": "292c90569216de8f",
   "metadata": {
    "execution": {
     "iopub.execute_input": "2025-02-10T05:29:51.170399Z",
     "iopub.status.busy": "2025-02-10T05:29:51.170228Z",
     "iopub.status.idle": "2025-02-10T05:29:51.219936Z",
     "shell.execute_reply": "2025-02-10T05:29:51.219494Z",
     "shell.execute_reply.started": "2025-02-10T05:29:51.170379Z"
    }
   },
   "outputs": [
    {
     "name": "stdout",
     "output_type": "stream",
     "text": [
      "             model.0.weight              parameters num: 3456\n",
      "              model.0.bias               parameters num: 128\n",
      "             model.2.weight              parameters num: 128\n",
      "              model.2.bias               parameters num: 128\n",
      "             model.3.weight              parameters num: 147456\n",
      "              model.3.bias               parameters num: 128\n",
      "             model.5.weight              parameters num: 128\n",
      "              model.5.bias               parameters num: 128\n",
      "             model.7.weight              parameters num: 294912\n",
      "              model.7.bias               parameters num: 256\n",
      "             model.9.weight              parameters num: 256\n",
      "              model.9.bias               parameters num: 256\n",
      "            model.10.weight              parameters num: 589824\n",
      "             model.10.bias               parameters num: 256\n",
      "            model.12.weight              parameters num: 256\n",
      "             model.12.bias               parameters num: 256\n",
      "            model.14.weight              parameters num: 1179648\n",
      "             model.14.bias               parameters num: 512\n",
      "            model.16.weight              parameters num: 512\n",
      "             model.16.bias               parameters num: 512\n",
      "            model.17.weight              parameters num: 2359296\n",
      "             model.17.bias               parameters num: 512\n",
      "            model.19.weight              parameters num: 512\n",
      "             model.19.bias               parameters num: 512\n",
      "            model.22.weight              parameters num: 4194304\n",
      "             model.22.bias               parameters num: 512\n",
      "            model.24.weight              parameters num: 5120\n",
      "             model.24.bias               parameters num: 10\n"
     ]
    }
   ],
   "source": [
    "# 导入必要的PyTorch模块\n",
    "import torch.nn as nn\n",
    "import numpy as np\n",
    "\n",
    "# 定义一个卷积神经网络（CNN）类，继承自nn.Module\n",
    "class CNN(nn.Module):\n",
    "    def __init__(self, num_classes):\n",
    "        \"\"\"\n",
    "        初始化CNN模型\n",
    "        :param num_classes: 分类的类别数量\n",
    "        \"\"\"\n",
    "        super().__init__()  # 调用父类nn.Module的初始化方法\n",
    "        \n",
    "        # 使用 nn.Sequential 方便地构建深度神经网络\n",
    "        self.model = nn.Sequential(\n",
    "            # 第一层卷积：输入通道3（RGB图像），输出通道128，卷积核大小3x3，保持输入大小不变（padding=\"same\"）\n",
    "            nn.Conv2d(in_channels=3, out_channels=128, kernel_size=3, padding=\"same\"),\n",
    "            nn.ReLU(),  # 激活函数ReLU，增加非线性表达能力\n",
    "            nn.BatchNorm2d(128),  # 批标准化，减少内部协变量偏移，提高训练稳定性\n",
    "            \n",
    "            # 第二层卷积：输入通道128，输出通道128，卷积核大小3x3，保持输入大小不变\n",
    "            nn.Conv2d(in_channels=128, out_channels=128, kernel_size=3, padding=\"same\"),\n",
    "            nn.ReLU(),\n",
    "            nn.BatchNorm2d(128),\n",
    "            \n",
    "            # 第一层池化：最大池化，窗口大小2x2，减少特征图尺寸（从32x32 -> 16x16）\n",
    "            nn.MaxPool2d(kernel_size=2),\n",
    "            \n",
    "            # 第三层卷积：输入通道128，输出通道256，卷积核3x3\n",
    "            nn.Conv2d(in_channels=128, out_channels=256, kernel_size=3, padding=\"same\"),\n",
    "            nn.ReLU(),\n",
    "            nn.BatchNorm2d(256),\n",
    "            \n",
    "            # 第四层卷积：输入通道256，输出通道256，卷积核3x3\n",
    "            nn.Conv2d(in_channels=256, out_channels=256, kernel_size=3, padding=\"same\"),\n",
    "            nn.ReLU(),\n",
    "            nn.BatchNorm2d(256),\n",
    "            \n",
    "            # 第二层池化：最大池化，窗口大小2x2，减少特征图尺寸（16x16 -> 8x8）\n",
    "            nn.MaxPool2d(kernel_size=2),\n",
    "            \n",
    "            # 第五层卷积：输入通道256，输出通道512，卷积核3x3\n",
    "            nn.Conv2d(in_channels=256, out_channels=512, kernel_size=3, padding=\"same\"),\n",
    "            nn.ReLU(),\n",
    "            nn.BatchNorm2d(512),\n",
    "            \n",
    "            # 第六层卷积：输入通道512，输出通道512，卷积核3x3\n",
    "            nn.Conv2d(in_channels=512, out_channels=512, kernel_size=3, padding=\"same\"),\n",
    "            nn.ReLU(),\n",
    "            nn.BatchNorm2d(512),\n",
    "            \n",
    "            # 第三层池化：最大池化，窗口大小2x2，减少特征图尺寸（8x8 -> 4x4）\n",
    "            nn.MaxPool2d(kernel_size=2),\n",
    "            \n",
    "            # 展平（Flatten）：将多维特征图展开为一维向量（4x4x512 = 8192）\n",
    "            nn.Flatten(),\n",
    "            \n",
    "            # 全连接层：输入8192维，输出512维\n",
    "            nn.Linear(8192, 512),\n",
    "            nn.ReLU(),  # ReLU激活\n",
    "            \n",
    "            # 输出层：输入512维，输出num_classes（分类类别数）\n",
    "            nn.Linear(512, num_classes),\n",
    "        )\n",
    "        \n",
    "    # 定义前向传播\n",
    "    def forward(self, x):\n",
    "        return self.model(x)\n",
    "\n",
    "# 计算模型参数的数量并打印\n",
    "for key, value in CNN(len(class_names)).named_parameters():\n",
    "    print(f\"{key:^40} parameters num: {np.prod(value.shape)}\")\n"
   ]
  },
  {
   "cell_type": "code",
   "execution_count": 35,
   "id": "cd6c1421b7730c17",
   "metadata": {
    "execution": {
     "iopub.execute_input": "2025-02-10T05:29:51.220591Z",
     "iopub.status.busy": "2025-02-10T05:29:51.220421Z",
     "iopub.status.idle": "2025-02-10T05:29:51.264466Z",
     "shell.execute_reply": "2025-02-10T05:29:51.264065Z",
     "shell.execute_reply.started": "2025-02-10T05:29:51.220575Z"
    }
   },
   "outputs": [
    {
     "name": "stdout",
     "output_type": "stream",
     "text": [
      "Total trainable parameters: 8779914\n"
     ]
    }
   ],
   "source": [
    "total_params = sum(p.numel() for p in CNN(len(class_names)).parameters() if p.requires_grad)\n",
    "print(f\"Total trainable parameters: {total_params}\")"
   ]
  },
  {
   "cell_type": "code",
   "execution_count": 36,
   "id": "e4239fe3558252f3",
   "metadata": {
    "execution": {
     "iopub.execute_input": "2025-02-10T05:29:51.265150Z",
     "iopub.status.busy": "2025-02-10T05:29:51.264956Z",
     "iopub.status.idle": "2025-02-10T05:29:51.268029Z",
     "shell.execute_reply": "2025-02-10T05:29:51.267584Z",
     "shell.execute_reply.started": "2025-02-10T05:29:51.265135Z"
    }
   },
   "outputs": [
    {
     "data": {
      "text/plain": [
       "8192"
      ]
     },
     "execution_count": 36,
     "metadata": {},
     "output_type": "execute_result"
    }
   ],
   "source": [
    "512*4*4"
   ]
  },
  {
   "cell_type": "code",
   "execution_count": 37,
   "id": "f948eb9c4f866f4c",
   "metadata": {
    "execution": {
     "iopub.execute_input": "2025-02-10T05:29:51.268776Z",
     "iopub.status.busy": "2025-02-10T05:29:51.268476Z",
     "iopub.status.idle": "2025-02-10T05:29:51.274766Z",
     "shell.execute_reply": "2025-02-10T05:29:51.274311Z",
     "shell.execute_reply.started": "2025-02-10T05:29:51.268761Z"
    }
   },
   "outputs": [
    {
     "data": {
      "text/plain": [
       "torch.Size([32, 3, 64, 64])"
      ]
     },
     "execution_count": 37,
     "metadata": {},
     "output_type": "execute_result"
    }
   ],
   "source": [
    "input_4d = torch.randn(32, 3, 64, 64)  # 32 个样本，3 个通道，图像大小为 64x64\n",
    "bn2d = nn.BatchNorm2d(3)              # 对 3 个通道进行归一化\n",
    "output_4d = bn2d(input_4d)\n",
    "output_4d.shape"
   ]
  },
  {
   "cell_type": "code",
   "execution_count": 38,
   "id": "1204c8696df67a62",
   "metadata": {
    "execution": {
     "iopub.execute_input": "2025-02-10T05:29:51.275368Z",
     "iopub.status.busy": "2025-02-10T05:29:51.275219Z",
     "iopub.status.idle": "2025-02-10T05:29:51.285098Z",
     "shell.execute_reply": "2025-02-10T05:29:51.284707Z",
     "shell.execute_reply.started": "2025-02-10T05:29:51.275354Z"
    }
   },
   "outputs": [
    {
     "data": {
      "text/plain": [
       "tensor([[[[ 3.0452e+00,  9.8681e-01, -1.3388e+00,  ...,  6.2809e-01,\n",
       "            7.1609e-01, -1.6249e+00],\n",
       "          [-6.4687e-01, -4.2207e-01,  1.7411e+00,  ..., -6.3522e-01,\n",
       "           -1.3146e-01, -1.9065e-01],\n",
       "          [-6.2807e-01,  1.4529e+00,  1.3066e-01,  ...,  5.9983e-01,\n",
       "            2.1537e-01, -8.7821e-01],\n",
       "          ...,\n",
       "          [-1.3034e+00, -2.2394e-01, -1.8260e+00,  ...,  3.2911e-01,\n",
       "            8.9360e-01, -7.0635e-01],\n",
       "          [-5.5126e-01,  3.7809e-01, -9.9392e-01,  ..., -3.6580e-01,\n",
       "           -1.1980e+00,  5.8600e-01],\n",
       "          [-2.6598e-01,  2.7598e-01, -1.8594e-01,  ...,  3.8669e-02,\n",
       "            2.2435e+00,  9.4962e-01]],\n",
       "\n",
       "         [[-2.1068e-01, -4.3416e-01, -1.8338e+00,  ...,  4.3888e-01,\n",
       "            1.6527e+00,  1.5573e-01],\n",
       "          [-7.0490e-01,  1.0583e+00,  6.3417e-01,  ...,  7.5648e-01,\n",
       "           -1.0947e+00, -4.2657e-03],\n",
       "          [ 7.2850e-01, -1.4784e-01,  8.5122e-01,  ...,  4.8622e-01,\n",
       "            7.4416e-01,  1.2872e+00],\n",
       "          ...,\n",
       "          [ 9.7849e-02, -4.1384e-01,  1.6051e+00,  ..., -1.0310e+00,\n",
       "            7.6171e-01, -2.3327e+00],\n",
       "          [ 3.0742e-01,  1.9304e-01, -1.7359e-01,  ..., -6.8833e-02,\n",
       "            4.4404e-01, -1.1517e+00],\n",
       "          [-3.9107e-01,  7.3839e-01, -8.2940e-01,  ...,  5.3297e-01,\n",
       "           -7.3994e-01, -4.8493e-02]],\n",
       "\n",
       "         [[ 1.0036e+00, -1.8349e-01, -9.1253e-01,  ...,  1.2326e+00,\n",
       "            5.4908e-01,  7.8012e-01],\n",
       "          [ 1.7315e-01, -1.5950e+00, -1.2232e+00,  ..., -2.4756e-01,\n",
       "            8.8295e-01, -1.1116e+00],\n",
       "          [-1.8863e-01,  1.2205e+00,  4.0779e-01,  ..., -2.1119e-01,\n",
       "           -3.9635e-01,  4.7445e-01],\n",
       "          ...,\n",
       "          [ 3.3793e-01,  3.8282e-01,  7.7454e-01,  ...,  2.6391e-01,\n",
       "           -1.9720e-01, -2.3242e-02],\n",
       "          [-2.4760e-01, -2.3818e-01,  1.9431e+00,  ..., -2.9061e-01,\n",
       "            3.2015e-01,  4.9206e-01],\n",
       "          [-9.3013e-02,  3.5209e-01,  3.0454e-01,  ...,  6.9308e-01,\n",
       "           -8.6000e-01, -2.4699e-01]]],\n",
       "\n",
       "\n",
       "        [[[ 1.4927e+00,  1.9575e+00,  6.7164e-01,  ..., -2.5171e-01,\n",
       "           -8.7328e-01, -1.2085e+00],\n",
       "          [-1.0297e-01,  9.1488e-01,  2.8130e-01,  ..., -5.6404e-01,\n",
       "           -2.4521e-01,  1.4776e+00],\n",
       "          [-2.3556e+00,  1.6856e-01, -1.7630e+00,  ...,  6.1955e-01,\n",
       "           -1.2906e-01, -1.1866e+00],\n",
       "          ...,\n",
       "          [ 5.2054e-01,  6.4294e-02, -1.7483e-01,  ...,  2.0292e+00,\n",
       "           -7.8662e-01,  6.8527e-01],\n",
       "          [ 9.2729e-03,  4.2913e-01,  1.7151e+00,  ..., -3.4753e-02,\n",
       "            1.6689e-01,  7.4162e-01],\n",
       "          [ 1.2620e+00,  5.5404e-01, -1.3335e+00,  ..., -5.6929e-02,\n",
       "            6.3454e-01,  6.5656e-01]],\n",
       "\n",
       "         [[ 1.4737e+00,  1.4004e+00,  7.4248e-01,  ...,  1.0132e+00,\n",
       "           -5.8150e-01,  1.0980e-01],\n",
       "          [-1.8661e+00,  1.7448e+00, -3.2909e-01,  ...,  6.2926e-01,\n",
       "           -3.3941e-01,  9.7562e-03],\n",
       "          [-5.0378e-01,  1.3871e+00,  1.5378e+00,  ..., -5.2856e-01,\n",
       "           -1.3361e+00,  1.2296e+00],\n",
       "          ...,\n",
       "          [-1.2216e+00, -8.8893e-01,  2.0036e+00,  ...,  5.9875e-01,\n",
       "            9.6223e-02,  1.1939e+00],\n",
       "          [-1.1162e-01, -9.4254e-01, -1.3168e+00,  ..., -1.6190e+00,\n",
       "            6.5020e-01, -9.1997e-02],\n",
       "          [-1.8510e-01,  4.5981e-01, -9.6505e-01,  ...,  3.6005e-05,\n",
       "            1.9360e+00, -4.5907e-01]],\n",
       "\n",
       "         [[-6.2608e-01,  1.0331e+00, -1.8997e+00,  ...,  1.6203e-01,\n",
       "            1.2796e+00,  2.3623e+00],\n",
       "          [-2.9513e-01, -1.6864e+00,  2.1704e+00,  ...,  1.0465e+00,\n",
       "           -1.0962e+00, -3.3208e-01],\n",
       "          [ 7.9333e-01,  1.8806e-01, -1.1078e+00,  ...,  3.0192e-01,\n",
       "            1.4583e+00,  7.7037e-01],\n",
       "          ...,\n",
       "          [ 2.5974e-01, -2.4182e+00, -1.5323e+00,  ...,  3.6574e-01,\n",
       "           -3.1508e-01, -1.3355e+00],\n",
       "          [ 7.0092e-01,  1.1075e+00,  3.6617e-02,  ..., -1.6873e-01,\n",
       "           -6.0385e-01, -1.7194e+00],\n",
       "          [-8.2751e-01,  2.4993e-02, -1.4482e+00,  ...,  1.0829e-01,\n",
       "           -1.1502e+00,  5.3890e-01]]],\n",
       "\n",
       "\n",
       "        [[[-1.1093e+00, -2.0234e+00,  5.7554e-02,  ..., -1.3521e+00,\n",
       "            8.4037e-01, -1.1116e+00],\n",
       "          [-6.5425e-01,  2.1522e+00,  3.9480e-01,  ..., -3.7912e-01,\n",
       "           -8.1407e-01,  1.5695e+00],\n",
       "          [-4.9331e-01, -2.4946e-01,  5.4255e-01,  ..., -1.2891e-02,\n",
       "           -2.1685e+00,  1.3047e+00],\n",
       "          ...,\n",
       "          [ 2.1389e-01,  9.8549e-01, -2.8304e+00,  ...,  5.0741e-01,\n",
       "           -7.8652e-01,  1.5972e+00],\n",
       "          [-3.9569e-02, -1.6192e+00, -2.8139e-01,  ...,  1.0012e+00,\n",
       "           -6.3588e-01, -5.5206e-01],\n",
       "          [-5.3220e-01, -1.5781e+00, -2.3775e+00,  ..., -3.8768e-01,\n",
       "            5.7491e-01,  2.9148e-01]],\n",
       "\n",
       "         [[-9.7752e-01,  2.9221e-01,  1.0719e+00,  ..., -3.5769e+00,\n",
       "           -3.4875e-01,  1.1785e+00],\n",
       "          [-5.0290e-01, -6.0019e-01,  1.7034e-01,  ..., -3.0729e-01,\n",
       "            1.5262e+00, -9.9341e-01],\n",
       "          [ 2.2526e+00, -1.1006e+00, -8.6824e-01,  ..., -4.8488e-01,\n",
       "            1.4445e-01, -1.6135e+00],\n",
       "          ...,\n",
       "          [-4.6426e-01,  1.3435e+00, -8.5891e-01,  ..., -9.4737e-02,\n",
       "            1.0543e+00,  8.3731e-01],\n",
       "          [-5.7440e-01, -2.0417e+00,  2.1519e+00,  ..., -2.4941e-01,\n",
       "           -4.4673e-02,  1.4902e+00],\n",
       "          [ 3.7505e-01,  1.5034e+00, -1.1270e-01,  ...,  8.2809e-01,\n",
       "           -1.4657e+00, -1.5487e+00]],\n",
       "\n",
       "         [[-3.3026e+00, -6.2508e-01,  2.3353e-01,  ...,  8.9490e-01,\n",
       "           -9.7916e-01,  2.8000e-01],\n",
       "          [ 1.8426e+00,  5.1161e-01, -1.5286e-01,  ..., -3.4511e-01,\n",
       "           -1.4436e-01, -4.4090e-01],\n",
       "          [-1.0074e+00,  2.8985e+00,  7.8720e-01,  ...,  2.6824e+00,\n",
       "           -6.5235e-01, -1.4113e+00],\n",
       "          ...,\n",
       "          [ 2.2953e-01,  1.0491e-01, -1.1860e-01,  ...,  1.2678e+00,\n",
       "           -4.9543e-01,  4.6801e-01],\n",
       "          [ 5.0152e-01,  1.1187e+00,  7.3267e-02,  ...,  1.5831e+00,\n",
       "           -3.8508e-01,  1.9475e+00],\n",
       "          [ 1.3921e+00,  4.4922e-01,  3.0288e-01,  ...,  1.0435e+00,\n",
       "           -1.0569e+00,  1.1952e-01]]],\n",
       "\n",
       "\n",
       "        ...,\n",
       "\n",
       "\n",
       "        [[[ 1.7971e-01, -1.6187e+00,  5.6727e-01,  ..., -7.5545e-01,\n",
       "            1.6813e-01, -5.8499e-01],\n",
       "          [-4.8840e-02,  5.6285e-01,  4.9426e-01,  ...,  6.5863e-01,\n",
       "           -6.1115e-01, -3.7675e-01],\n",
       "          [ 6.6110e-01, -6.6897e-01, -6.9830e-01,  ..., -1.7973e+00,\n",
       "            1.2574e+00, -3.8590e-01],\n",
       "          ...,\n",
       "          [-2.8923e-03, -1.5773e-01, -1.7089e+00,  ...,  1.0486e-02,\n",
       "            8.5650e-01,  1.8640e-01],\n",
       "          [-4.0909e-01, -9.1296e-01,  9.4433e-01,  ..., -2.7429e-01,\n",
       "           -4.9971e-01,  9.9901e-01],\n",
       "          [ 7.8672e-01, -4.5099e-02, -3.7348e-01,  ..., -6.1358e-01,\n",
       "           -1.0187e+00,  1.2404e+00]],\n",
       "\n",
       "         [[-3.7585e-01, -2.1191e-01, -8.1124e-01,  ..., -5.7479e-02,\n",
       "            4.6713e-01,  5.7023e-01],\n",
       "          [ 2.6300e+00,  4.8585e-01,  1.4795e+00,  ..., -1.4207e+00,\n",
       "            5.1708e-01, -5.0432e-01],\n",
       "          [ 7.1501e-01,  5.4519e-01,  1.2588e+00,  ...,  5.9190e-01,\n",
       "           -2.6042e+00, -3.9094e-01],\n",
       "          ...,\n",
       "          [ 1.2376e+00,  2.7114e-01,  7.2310e-01,  ...,  1.1251e+00,\n",
       "           -8.8456e-01, -1.4926e+00],\n",
       "          [ 6.0849e-01,  1.4770e+00,  9.2857e-01,  ..., -1.3579e+00,\n",
       "            1.8024e+00,  1.3586e-02],\n",
       "          [-7.7226e-01,  5.1083e-01, -7.8379e-02,  ..., -1.3350e+00,\n",
       "            1.1418e-01, -1.7294e+00]],\n",
       "\n",
       "         [[ 1.4801e-01,  7.6973e-01,  1.5995e+00,  ..., -1.1987e+00,\n",
       "            1.0580e+00, -1.1979e+00],\n",
       "          [ 1.3641e+00,  1.7754e-02, -6.1752e-02,  ...,  1.2965e+00,\n",
       "            1.0035e+00,  2.3418e-01],\n",
       "          [ 2.8556e-01, -1.2984e+00,  7.5461e-01,  ...,  1.4615e+00,\n",
       "            2.4864e-01, -8.7819e-01],\n",
       "          ...,\n",
       "          [ 7.9023e-01,  9.2199e-01,  3.1322e-01,  ...,  1.5334e-01,\n",
       "            7.5052e-01,  4.3675e-01],\n",
       "          [ 1.8322e+00, -1.3423e+00,  1.3251e+00,  ...,  4.8359e-01,\n",
       "           -9.7773e-01,  1.9106e-01],\n",
       "          [-1.0220e+00,  2.3480e-01, -1.8397e-02,  ..., -8.9531e-02,\n",
       "            6.3596e-01, -1.4489e-01]]],\n",
       "\n",
       "\n",
       "        [[[ 8.5004e-01, -4.0568e-01, -1.8798e+00,  ..., -3.8141e-01,\n",
       "            1.2327e+00, -6.7252e-01],\n",
       "          [-6.7373e-01, -1.7277e-02, -8.1390e-01,  ...,  5.7822e-01,\n",
       "            6.8634e-01, -9.4719e-01],\n",
       "          [ 1.9127e-01, -1.6690e+00,  6.3626e-01,  ..., -1.1825e-02,\n",
       "           -5.2713e-01,  3.2393e-01],\n",
       "          ...,\n",
       "          [ 1.5650e+00,  1.7406e-01, -2.9086e-01,  ...,  8.0468e-01,\n",
       "           -6.3215e-01,  7.9962e-01],\n",
       "          [-8.9772e-01,  1.0033e+00,  1.8811e-01,  ..., -1.1005e+00,\n",
       "            2.9904e-01,  8.0488e-01],\n",
       "          [-3.0981e-01, -1.4343e-01, -1.2080e+00,  ..., -1.0503e+00,\n",
       "            7.5446e-01, -1.0039e+00]],\n",
       "\n",
       "         [[-1.8255e+00,  6.8453e-02,  1.9581e-01,  ...,  1.2106e+00,\n",
       "           -7.8601e-01,  7.5507e-01],\n",
       "          [ 1.1259e+00, -4.7929e-01, -2.2300e-01,  ...,  7.3372e-01,\n",
       "            2.4523e+00, -1.1282e+00],\n",
       "          [-1.2071e+00,  5.7137e-01,  5.7059e-02,  ...,  4.2059e-01,\n",
       "           -3.0203e-01, -1.6774e+00],\n",
       "          ...,\n",
       "          [-1.4641e+00, -8.8305e-01, -1.0953e+00,  ...,  5.3887e-01,\n",
       "            2.6844e-01,  9.7721e-01],\n",
       "          [ 4.8726e-02,  3.9037e-01, -8.7997e-01,  ..., -3.3826e-01,\n",
       "            7.6678e-01, -5.7952e-02],\n",
       "          [ 3.9995e-01, -5.1309e-01,  1.6213e+00,  ..., -2.1793e+00,\n",
       "            1.2290e+00, -1.7184e-01]],\n",
       "\n",
       "         [[-4.3622e-01, -7.8873e-01, -1.8908e+00,  ..., -5.9644e-01,\n",
       "           -6.9903e-01, -4.2761e-01],\n",
       "          [ 1.7841e+00,  1.4107e+00, -9.4273e-01,  ...,  1.2118e+00,\n",
       "            2.9558e-01, -4.8598e-01],\n",
       "          [ 6.9129e-01, -3.5558e-01,  5.7871e-01,  ..., -8.0920e-02,\n",
       "           -6.7336e-02, -3.4036e-01],\n",
       "          ...,\n",
       "          [ 1.0883e+00, -1.4857e+00,  1.7292e-01,  ...,  5.2106e-01,\n",
       "            2.3580e-01,  8.3817e-01],\n",
       "          [ 3.0133e-01, -8.1608e-01, -2.8626e-01,  ...,  4.9778e-01,\n",
       "            6.5289e-01, -6.8626e-01],\n",
       "          [ 1.1490e+00,  4.3196e-01, -9.8084e-01,  ...,  8.7653e-02,\n",
       "            6.7292e-01, -2.6467e-01]]],\n",
       "\n",
       "\n",
       "        [[[ 3.5870e-01, -9.2151e-01,  8.1331e-01,  ...,  3.1840e-01,\n",
       "            1.7902e+00,  2.9669e-01],\n",
       "          [ 1.3204e+00,  3.1882e-01, -9.1527e-01,  ..., -2.6518e+00,\n",
       "            8.8706e-01, -1.7658e+00],\n",
       "          [ 1.2143e+00, -3.7635e-01,  1.9023e+00,  ..., -5.4105e-01,\n",
       "           -6.7018e-01, -7.6674e-01],\n",
       "          ...,\n",
       "          [-1.0424e+00,  8.8692e-01, -2.0606e+00,  ..., -2.6890e-01,\n",
       "            1.0535e+00,  6.5596e-01],\n",
       "          [-1.9913e-01,  3.3130e-01,  9.0290e-01,  ..., -5.8152e-01,\n",
       "           -4.5695e-01,  4.7952e-01],\n",
       "          [ 1.2161e+00, -1.2485e+00,  8.2063e-01,  ...,  1.1289e+00,\n",
       "           -5.4368e-01, -7.0235e-01]],\n",
       "\n",
       "         [[ 1.1399e+00, -7.7372e-01, -7.1327e-01,  ...,  2.4880e+00,\n",
       "            4.7497e-01, -1.2834e+00],\n",
       "          [ 1.8473e-01, -1.7530e+00, -5.6385e-01,  ...,  1.7752e-02,\n",
       "           -1.8286e-01, -1.3220e+00],\n",
       "          [-8.3608e-01,  3.9192e-01,  2.6988e+00,  ..., -1.4042e-01,\n",
       "            5.3339e-01, -3.2250e-01],\n",
       "          ...,\n",
       "          [ 1.0334e+00,  6.3179e-01, -1.7959e+00,  ..., -1.0281e+00,\n",
       "           -6.3391e-01,  4.1522e-01],\n",
       "          [-2.0559e-01, -4.0949e-01, -5.6735e-01,  ..., -9.0912e-02,\n",
       "           -3.8759e-01, -8.9845e-02],\n",
       "          [ 1.7120e+00, -4.8229e-01, -1.4814e+00,  ...,  5.1799e-01,\n",
       "            2.3744e+00, -8.2754e-01]],\n",
       "\n",
       "         [[-2.8017e-01,  2.3087e+00,  9.9383e-01,  ..., -1.2318e+00,\n",
       "            6.3557e-01, -8.9158e-02],\n",
       "          [ 9.8514e-01, -7.5342e-01,  6.2859e-01,  ..., -1.3706e+00,\n",
       "           -8.2107e-01, -7.3777e-01],\n",
       "          [ 4.0242e-01,  1.0031e+00,  1.2548e-01,  ...,  3.3161e-01,\n",
       "            2.1882e-01, -3.4328e-01],\n",
       "          ...,\n",
       "          [ 1.6976e+00, -5.9524e-01, -5.5170e-01,  ..., -4.5796e-01,\n",
       "           -3.7671e-01, -2.1015e+00],\n",
       "          [ 4.8152e-01,  1.8599e-01,  1.7628e+00,  ..., -2.7740e+00,\n",
       "            1.0320e+00, -2.0315e+00],\n",
       "          [ 1.4091e+00, -1.2824e+00,  2.2372e-01,  ...,  7.2765e-01,\n",
       "           -7.0540e-01,  6.5133e-01]]]], grad_fn=<NativeBatchNormBackward0>)"
      ]
     },
     "execution_count": 38,
     "metadata": {},
     "output_type": "execute_result"
    }
   ],
   "source": [
    "output_4d"
   ]
  },
  {
   "cell_type": "code",
   "execution_count": 39,
   "id": "46a4f8328a3da641",
   "metadata": {
    "execution": {
     "iopub.execute_input": "2025-02-10T05:29:51.285936Z",
     "iopub.status.busy": "2025-02-10T05:29:51.285562Z",
     "iopub.status.idle": "2025-02-10T05:29:51.292232Z",
     "shell.execute_reply": "2025-02-10T05:29:51.291821Z",
     "shell.execute_reply.started": "2025-02-10T05:29:51.285920Z"
    }
   },
   "outputs": [
    {
     "data": {
      "text/plain": [
       "tensor([[[[ 3.0452e+00,  9.8681e-01, -1.3388e+00,  ...,  6.2809e-01,\n",
       "            7.1609e-01, -1.6249e+00],\n",
       "          [-6.4687e-01, -4.2207e-01,  1.7411e+00,  ..., -6.3522e-01,\n",
       "           -1.3146e-01, -1.9065e-01],\n",
       "          [-6.2807e-01,  1.4529e+00,  1.3066e-01,  ...,  5.9983e-01,\n",
       "            2.1537e-01, -8.7821e-01],\n",
       "          ...,\n",
       "          [-1.3034e+00, -2.2394e-01, -1.8260e+00,  ...,  3.2911e-01,\n",
       "            8.9360e-01, -7.0635e-01],\n",
       "          [-5.5126e-01,  3.7809e-01, -9.9392e-01,  ..., -3.6580e-01,\n",
       "           -1.1980e+00,  5.8600e-01],\n",
       "          [-2.6598e-01,  2.7598e-01, -1.8594e-01,  ...,  3.8669e-02,\n",
       "            2.2435e+00,  9.4962e-01]]],\n",
       "\n",
       "\n",
       "        [[[ 1.4927e+00,  1.9575e+00,  6.7164e-01,  ..., -2.5171e-01,\n",
       "           -8.7328e-01, -1.2085e+00],\n",
       "          [-1.0297e-01,  9.1488e-01,  2.8130e-01,  ..., -5.6404e-01,\n",
       "           -2.4521e-01,  1.4776e+00],\n",
       "          [-2.3556e+00,  1.6856e-01, -1.7630e+00,  ...,  6.1955e-01,\n",
       "           -1.2906e-01, -1.1866e+00],\n",
       "          ...,\n",
       "          [ 5.2054e-01,  6.4294e-02, -1.7483e-01,  ...,  2.0292e+00,\n",
       "           -7.8662e-01,  6.8527e-01],\n",
       "          [ 9.2729e-03,  4.2913e-01,  1.7151e+00,  ..., -3.4753e-02,\n",
       "            1.6689e-01,  7.4162e-01],\n",
       "          [ 1.2620e+00,  5.5404e-01, -1.3335e+00,  ..., -5.6929e-02,\n",
       "            6.3454e-01,  6.5656e-01]]],\n",
       "\n",
       "\n",
       "        [[[-1.1093e+00, -2.0234e+00,  5.7554e-02,  ..., -1.3521e+00,\n",
       "            8.4037e-01, -1.1116e+00],\n",
       "          [-6.5425e-01,  2.1522e+00,  3.9480e-01,  ..., -3.7912e-01,\n",
       "           -8.1407e-01,  1.5695e+00],\n",
       "          [-4.9331e-01, -2.4946e-01,  5.4255e-01,  ..., -1.2891e-02,\n",
       "           -2.1685e+00,  1.3047e+00],\n",
       "          ...,\n",
       "          [ 2.1389e-01,  9.8549e-01, -2.8304e+00,  ...,  5.0741e-01,\n",
       "           -7.8652e-01,  1.5972e+00],\n",
       "          [-3.9569e-02, -1.6192e+00, -2.8139e-01,  ...,  1.0012e+00,\n",
       "           -6.3588e-01, -5.5206e-01],\n",
       "          [-5.3220e-01, -1.5781e+00, -2.3775e+00,  ..., -3.8768e-01,\n",
       "            5.7491e-01,  2.9148e-01]]],\n",
       "\n",
       "\n",
       "        ...,\n",
       "\n",
       "\n",
       "        [[[ 1.7971e-01, -1.6187e+00,  5.6727e-01,  ..., -7.5545e-01,\n",
       "            1.6813e-01, -5.8499e-01],\n",
       "          [-4.8840e-02,  5.6285e-01,  4.9426e-01,  ...,  6.5863e-01,\n",
       "           -6.1115e-01, -3.7675e-01],\n",
       "          [ 6.6110e-01, -6.6897e-01, -6.9830e-01,  ..., -1.7973e+00,\n",
       "            1.2574e+00, -3.8590e-01],\n",
       "          ...,\n",
       "          [-2.8923e-03, -1.5773e-01, -1.7089e+00,  ...,  1.0486e-02,\n",
       "            8.5650e-01,  1.8640e-01],\n",
       "          [-4.0909e-01, -9.1296e-01,  9.4433e-01,  ..., -2.7429e-01,\n",
       "           -4.9971e-01,  9.9901e-01],\n",
       "          [ 7.8672e-01, -4.5099e-02, -3.7348e-01,  ..., -6.1358e-01,\n",
       "           -1.0187e+00,  1.2404e+00]]],\n",
       "\n",
       "\n",
       "        [[[ 8.5004e-01, -4.0568e-01, -1.8798e+00,  ..., -3.8141e-01,\n",
       "            1.2327e+00, -6.7252e-01],\n",
       "          [-6.7373e-01, -1.7277e-02, -8.1390e-01,  ...,  5.7822e-01,\n",
       "            6.8634e-01, -9.4719e-01],\n",
       "          [ 1.9127e-01, -1.6690e+00,  6.3626e-01,  ..., -1.1825e-02,\n",
       "           -5.2713e-01,  3.2393e-01],\n",
       "          ...,\n",
       "          [ 1.5650e+00,  1.7406e-01, -2.9086e-01,  ...,  8.0468e-01,\n",
       "           -6.3215e-01,  7.9962e-01],\n",
       "          [-8.9772e-01,  1.0033e+00,  1.8811e-01,  ..., -1.1005e+00,\n",
       "            2.9904e-01,  8.0488e-01],\n",
       "          [-3.0981e-01, -1.4343e-01, -1.2080e+00,  ..., -1.0503e+00,\n",
       "            7.5446e-01, -1.0039e+00]]],\n",
       "\n",
       "\n",
       "        [[[ 3.5870e-01, -9.2151e-01,  8.1331e-01,  ...,  3.1840e-01,\n",
       "            1.7902e+00,  2.9669e-01],\n",
       "          [ 1.3204e+00,  3.1882e-01, -9.1527e-01,  ..., -2.6518e+00,\n",
       "            8.8706e-01, -1.7658e+00],\n",
       "          [ 1.2143e+00, -3.7635e-01,  1.9023e+00,  ..., -5.4105e-01,\n",
       "           -6.7018e-01, -7.6674e-01],\n",
       "          ...,\n",
       "          [-1.0424e+00,  8.8692e-01, -2.0606e+00,  ..., -2.6890e-01,\n",
       "            1.0535e+00,  6.5596e-01],\n",
       "          [-1.9913e-01,  3.3130e-01,  9.0290e-01,  ..., -5.8152e-01,\n",
       "           -4.5695e-01,  4.7952e-01],\n",
       "          [ 1.2161e+00, -1.2485e+00,  8.2063e-01,  ...,  1.1289e+00,\n",
       "           -5.4368e-01, -7.0235e-01]]]], grad_fn=<NativeBatchNormBackward0>)"
      ]
     },
     "execution_count": 39,
     "metadata": {},
     "output_type": "execute_result"
    }
   ],
   "source": [
    "bn2d = nn.BatchNorm2d(1)              # 对 3 个通道进行归一化\n",
    "output_4d1 = bn2d(input_4d[:, 0:1, :, :])\n",
    "output_4d1"
   ]
  },
  {
   "cell_type": "markdown",
   "id": "62fb63e50100e3c2",
   "metadata": {},
   "source": [
    "## 训练\n",
    "\n",
    "pytorch的训练需要自行实现，包括\n",
    "1. 定义损失函数\n",
    "2. 定义优化器\n",
    "3. 定义训练步\n",
    "4. 训练"
   ]
  },
  {
   "cell_type": "code",
   "execution_count": 40,
   "id": "9966b7a9e5861a5e",
   "metadata": {
    "execution": {
     "iopub.execute_input": "2025-02-10T05:29:51.292897Z",
     "iopub.status.busy": "2025-02-10T05:29:51.292710Z",
     "iopub.status.idle": "2025-02-10T05:29:51.316008Z",
     "shell.execute_reply": "2025-02-10T05:29:51.315573Z",
     "shell.execute_reply.started": "2025-02-10T05:29:51.292883Z"
    }
   },
   "outputs": [],
   "source": [
    "from sklearn.metrics import accuracy_score\n",
    "\n",
    "@torch.no_grad()\n",
    "def evaluating(model, dataloader, loss_fct):\n",
    "    loss_list = []\n",
    "    pred_list = []\n",
    "    label_list = []\n",
    "    for datas, labels in dataloader:\n",
    "        datas = datas.to(device)\n",
    "        labels = labels.to(device)\n",
    "        # 前向计算\n",
    "        logits = model(datas)\n",
    "        loss = loss_fct(logits, labels)         # 验证集损失\n",
    "        loss_list.append(loss.item())\n",
    "        \n",
    "        preds = logits.argmax(axis=-1)    # 验证集预测\n",
    "        pred_list.extend(preds.cpu().numpy().tolist())\n",
    "        label_list.extend(labels.cpu().numpy().tolist())\n",
    "        \n",
    "    acc = accuracy_score(label_list, pred_list)\n",
    "    return np.mean(loss_list), acc\n"
   ]
  },
  {
   "cell_type": "markdown",
   "id": "96424e3769a78b67",
   "metadata": {},
   "source": [
    "### TensorBoard 可视化\n",
    "\n",
    "\n",
    "训练过程中可以使用如下命令启动tensorboard服务。\n",
    "\n",
    "```shell\n",
    "tensorboard \\\n",
    "    --logdir=runs \\     # log 存放路径\n",
    "    --host 0.0.0.0 \\    # ip\n",
    "    --port 8848         # 端口\n",
    "```"
   ]
  },
  {
   "cell_type": "code",
   "execution_count": 41,
   "id": "23ca3f4c42b94912",
   "metadata": {
    "execution": {
     "iopub.execute_input": "2025-02-10T05:29:51.317976Z",
     "iopub.status.busy": "2025-02-10T05:29:51.317603Z",
     "iopub.status.idle": "2025-02-10T05:29:51.369798Z",
     "shell.execute_reply": "2025-02-10T05:29:51.369364Z",
     "shell.execute_reply.started": "2025-02-10T05:29:51.317958Z"
    }
   },
   "outputs": [],
   "source": [
    "from torch.utils.tensorboard import SummaryWriter\n",
    "\n",
    "\n",
    "class TensorBoardCallback:\n",
    "    def __init__(self, log_dir, flush_secs=10):\n",
    "        \"\"\"\n",
    "        Args:\n",
    "            log_dir (str): dir to write log.\n",
    "            flush_secs (int, optional): write to dsk each flush_secs seconds. Defaults to 10.\n",
    "        \"\"\"\n",
    "        self.writer = SummaryWriter(log_dir=log_dir, flush_secs=flush_secs)\n",
    "\n",
    "    def draw_model(self, model, input_shape):\n",
    "        self.writer.add_graph(model, input_to_model=torch.randn(input_shape))\n",
    "        \n",
    "    def add_loss_scalars(self, step, loss, val_loss):\n",
    "        self.writer.add_scalars(\n",
    "            main_tag=\"training/loss\", \n",
    "            tag_scalar_dict={\"loss\": loss, \"val_loss\": val_loss},\n",
    "            global_step=step,\n",
    "            )\n",
    "        \n",
    "    def add_acc_scalars(self, step, acc, val_acc):\n",
    "        self.writer.add_scalars(\n",
    "            main_tag=\"training/accuracy\",\n",
    "            tag_scalar_dict={\"accuracy\": acc, \"val_accuracy\": val_acc},\n",
    "            global_step=step,\n",
    "        )\n",
    "        \n",
    "    def add_lr_scalars(self, step, learning_rate):\n",
    "        self.writer.add_scalars(\n",
    "            main_tag=\"training/learning_rate\",\n",
    "            tag_scalar_dict={\"learning_rate\": learning_rate},\n",
    "            global_step=step,\n",
    "            \n",
    "        )\n",
    "    \n",
    "    def __call__(self, step, **kwargs):\n",
    "        # add loss\n",
    "        loss = kwargs.pop(\"loss\", None)\n",
    "        val_loss = kwargs.pop(\"val_loss\", None)\n",
    "        if loss is not None and val_loss is not None:\n",
    "            self.add_loss_scalars(step, loss, val_loss)\n",
    "        # add acc\n",
    "        acc = kwargs.pop(\"acc\", None)\n",
    "        val_acc = kwargs.pop(\"val_acc\", None)\n",
    "        if acc is not None and val_acc is not None:\n",
    "            self.add_acc_scalars(step, acc, val_acc)\n",
    "        # add lr\n",
    "        learning_rate = kwargs.pop(\"lr\", None)\n",
    "        if learning_rate is not None:\n",
    "            self.add_lr_scalars(step, learning_rate)\n"
   ]
  },
  {
   "cell_type": "markdown",
   "id": "87dcc03e4618d1b5",
   "metadata": {},
   "source": [
    "### Save Best\n"
   ]
  },
  {
   "cell_type": "code",
   "execution_count": 42,
   "id": "5f1189511861a919",
   "metadata": {
    "execution": {
     "iopub.execute_input": "2025-02-10T05:29:51.370521Z",
     "iopub.status.busy": "2025-02-10T05:29:51.370259Z",
     "iopub.status.idle": "2025-02-10T05:29:51.374755Z",
     "shell.execute_reply": "2025-02-10T05:29:51.374221Z",
     "shell.execute_reply.started": "2025-02-10T05:29:51.370505Z"
    }
   },
   "outputs": [],
   "source": [
    "class SaveCheckpointsCallback:\n",
    "    def __init__(self, save_dir, save_step=5000, save_best_only=True):\n",
    "        \"\"\"\n",
    "        Save checkpoints each save_epoch epoch. \n",
    "        We save checkpoint by epoch in this implementation.\n",
    "        Usually, training scripts with pytorch evaluating model and save checkpoint by step.\n",
    "\n",
    "        Args:\n",
    "            save_dir (str): dir to save checkpoint\n",
    "            save_epoch (int, optional): the frequency to save checkpoint. Defaults to 1.\n",
    "            save_best_only (bool, optional): If True, only save the best model or save each model at every epoch.\n",
    "        \"\"\"\n",
    "        self.save_dir = save_dir\n",
    "        self.save_step = save_step\n",
    "        self.save_best_only = save_best_only\n",
    "        self.best_metrics = -1\n",
    "        \n",
    "        # mkdir\n",
    "        if not os.path.exists(self.save_dir):\n",
    "            os.mkdir(self.save_dir)\n",
    "        \n",
    "    def __call__(self, step, state_dict, metric=None):\n",
    "        if step % self.save_step > 0:\n",
    "            return\n",
    "        \n",
    "        if self.save_best_only:\n",
    "            assert metric is not None\n",
    "            if metric >= self.best_metrics:\n",
    "                # save checkpoints\n",
    "                torch.save(state_dict, os.path.join(self.save_dir, \"best.ckpt\"))\n",
    "                # update best metrics\n",
    "                self.best_metrics = metric\n",
    "        else:\n",
    "            torch.save(state_dict, os.path.join(self.save_dir, f\"{step}.ckpt\"))\n",
    "\n"
   ]
  },
  {
   "cell_type": "markdown",
   "id": "35cdb8166a8f3a38",
   "metadata": {},
   "source": [
    "### Early Stop"
   ]
  },
  {
   "cell_type": "code",
   "execution_count": 43,
   "id": "3f2f793d81d01efc",
   "metadata": {
    "execution": {
     "iopub.execute_input": "2025-02-10T05:29:51.375468Z",
     "iopub.status.busy": "2025-02-10T05:29:51.375231Z",
     "iopub.status.idle": "2025-02-10T05:29:51.378823Z",
     "shell.execute_reply": "2025-02-10T05:29:51.378384Z",
     "shell.execute_reply.started": "2025-02-10T05:29:51.375453Z"
    }
   },
   "outputs": [],
   "source": [
    "class EarlyStopCallback:\n",
    "    def __init__(self, patience=5, min_delta=0.01):\n",
    "        \"\"\"\n",
    "\n",
    "        Args:\n",
    "            patience (int, optional): Number of epochs with no improvement after which training will be stopped.. Defaults to 5.\n",
    "            min_delta (float, optional): Minimum change in the monitored quantity to qualify as an improvement, i.e. an absolute \n",
    "                change of less than min_delta, will count as no improvement. Defaults to 0.01.\n",
    "        \"\"\"\n",
    "        self.patience = patience\n",
    "        self.min_delta = min_delta\n",
    "        self.best_metric = -1\n",
    "        self.counter = 0\n",
    "        \n",
    "    def __call__(self, metric):\n",
    "        if metric >= self.best_metric + self.min_delta:\n",
    "            # update best metric\n",
    "            self.best_metric = metric\n",
    "            # reset counter \n",
    "            self.counter = 0\n",
    "        else: \n",
    "            self.counter += 1\n",
    "            \n",
    "    @property\n",
    "    def early_stop(self):\n",
    "        return self.counter >= self.patience\n"
   ]
  },
  {
   "cell_type": "code",
   "execution_count": 44,
   "id": "bd44d1a189bee938",
   "metadata": {
    "execution": {
     "iopub.execute_input": "2025-02-10T05:29:51.379614Z",
     "iopub.status.busy": "2025-02-10T05:29:51.379459Z",
     "iopub.status.idle": "2025-02-10T05:29:51.488484Z",
     "shell.execute_reply": "2025-02-10T05:29:51.488040Z",
     "shell.execute_reply.started": "2025-02-10T05:29:51.379599Z"
    }
   },
   "outputs": [],
   "source": [
    "# 训练\n",
    "def training(\n",
    "    model, \n",
    "    train_loader, \n",
    "    val_loader, \n",
    "    epoch, \n",
    "    loss_fct, \n",
    "    optimizer, \n",
    "    tensorboard_callback=None,\n",
    "    save_ckpt_callback=None,\n",
    "    early_stop_callback=None,\n",
    "    eval_step=500,\n",
    "    ):\n",
    "    record_dict = {\n",
    "        \"train\": [],\n",
    "        \"val\": []\n",
    "    }\n",
    "    \n",
    "    global_step = 0\n",
    "    model.train()\n",
    "    with tqdm(total=epoch * len(train_loader)) as pbar:\n",
    "        for epoch_id in range(epoch):\n",
    "            # training\n",
    "            for datas, labels in train_loader:\n",
    "                datas = datas.to(device)\n",
    "                labels = labels.to(device)\n",
    "                # 梯度清空\n",
    "                optimizer.zero_grad()\n",
    "                # 模型前向计算\n",
    "                logits = model(datas)\n",
    "                # 计算损失\n",
    "                loss = loss_fct(logits, labels)\n",
    "                # 梯度回传\n",
    "                loss.backward()\n",
    "                # 调整优化器，包括学习率的变动等\n",
    "                optimizer.step()\n",
    "                preds = logits.argmax(axis=-1) #最大值的索引\n",
    "            \n",
    "                acc = accuracy_score(labels.cpu().numpy(), preds.cpu().numpy())     # 计算准确率\n",
    "                loss = loss.cpu().item() # 计算损失\n",
    "                # record\n",
    "                \n",
    "                record_dict[\"train\"].append({\n",
    "                    \"loss\": loss, \"acc\": acc, \"step\": global_step # 记录每一步的损失和准确率\n",
    "                })\n",
    "                \n",
    "                # evaluating\n",
    "                if global_step % eval_step == 0:\n",
    "                    model.eval()\n",
    "                    val_loss, val_acc = evaluating(model, val_loader, loss_fct)\n",
    "                    record_dict[\"val\"].append({\n",
    "                        \"loss\": val_loss, \"acc\": val_acc, \"step\": global_step\n",
    "                    })\n",
    "                    model.train()\n",
    "                    \n",
    "                    # 1. 使用 tensorboard 可视化\n",
    "                    if tensorboard_callback is not None:\n",
    "                        tensorboard_callback(\n",
    "                            global_step, \n",
    "                            loss=loss, val_loss=val_loss,\n",
    "                            acc=acc, val_acc=val_acc,\n",
    "                            lr=optimizer.param_groups[0][\"lr\"],\n",
    "                            )\n",
    "                \n",
    "                    # 2. 保存模型权重 save model checkpoint\n",
    "                    if save_ckpt_callback is not None:\n",
    "                        save_ckpt_callback(global_step, model.state_dict(), metric=val_acc)\n",
    "\n",
    "                    # 3. 早停 Early Stop\n",
    "                    if early_stop_callback is not None:\n",
    "                        early_stop_callback(val_acc)\n",
    "                        if early_stop_callback.early_stop:\n",
    "                            print(f\"Early stop at epoch {epoch_id} / global_step {global_step}\")\n",
    "                            return record_dict\n",
    "                    \n",
    "                # udate step\n",
    "                global_step += 1\n",
    "                pbar.update(1)\n",
    "                pbar.set_postfix({\"epoch\": epoch_id})\n",
    "        \n",
    "    return record_dict\n",
    "        \n",
    "\n",
    "epoch = 20\n",
    "\n",
    "model = CNN(num_classes=10)\n",
    "\n",
    "# 1. 定义损失函数 采用交叉熵损失\n",
    "loss_fct = nn.CrossEntropyLoss()\n",
    "# 2. 定义优化器 采用 adam\n",
    "# Optimizers specified in the torch.optim package\n",
    "optimizer = torch.optim.Adam(model.parameters(), lr=0.001)\n",
    "\n",
    "# 1. tensorboard 可视化\n",
    "if not os.path.exists(\"runs\"):\n",
    "    os.mkdir(\"runs\")\n",
    "# tensorboard_callback = TensorBoardCallback(\"runs/cifar-10\")\n",
    "# tensorboard_callback.draw_model(model, [1, 3, IMAGE_SIZE, IMAGE_SIZE])\n",
    "# 2. save best\n",
    "if not os.path.exists(\"checkpoints\"):\n",
    "    os.makedirs(\"checkpoints\")\n",
    "save_ckpt_callback = SaveCheckpointsCallback(\"checkpoints/cifar-10\", save_step=len(train_dl), save_best_only=True)\n",
    "# 3. early stop\n",
    "early_stop_callback = EarlyStopCallback(patience=5)\n",
    "\n",
    "model = model.to(device)\n"
   ]
  },
  {
   "cell_type": "code",
   "execution_count": 45,
   "id": "ede9b2b543f5c359",
   "metadata": {
    "execution": {
     "iopub.execute_input": "2025-02-10T05:29:51.489228Z",
     "iopub.status.busy": "2025-02-10T05:29:51.489022Z",
     "iopub.status.idle": "2025-02-10T05:39:12.603601Z",
     "shell.execute_reply": "2025-02-10T05:39:12.603194Z",
     "shell.execute_reply.started": "2025-02-10T05:29:51.489213Z"
    }
   },
   "outputs": [
    {
     "name": "stderr",
     "output_type": "stream",
     "text": [
      "100%|██████████| 14080/14080 [09:21<00:00, 25.09it/s, epoch=19]\n"
     ]
    }
   ],
   "source": [
    "record = training(\n",
    "    model,\n",
    "    train_dl,\n",
    "    eval_dl,\n",
    "    epoch,\n",
    "    loss_fct,\n",
    "    optimizer,\n",
    "    tensorboard_callback=None,\n",
    "    save_ckpt_callback=save_ckpt_callback,\n",
    "    early_stop_callback=early_stop_callback,\n",
    "    eval_step=len(train_dl)\n",
    "    )"
   ]
  },
  {
   "cell_type": "code",
   "execution_count": 56,
   "id": "d7336de3c604905b",
   "metadata": {
    "ExecutionIndicator": {
     "show": true
    },
    "execution": {
     "iopub.execute_input": "2025-02-10T06:01:46.912110Z",
     "iopub.status.busy": "2025-02-10T06:01:46.911781Z",
     "iopub.status.idle": "2025-02-10T06:01:47.114945Z",
     "shell.execute_reply": "2025-02-10T06:01:47.114520Z",
     "shell.execute_reply.started": "2025-02-10T06:01:46.912081Z"
    },
    "tags": []
   },
   "outputs": [
    {
     "data": {
      "image/png": "[encoded data removed]",
      "text/plain": [
       "<Figure size 1000x500 with 2 Axes>"
      ]
     },
     "metadata": {},
     "output_type": "display_data"
    }
   ],
   "source": [
    "# 画线要注意的是损失是不一定在零到1之间的\n",
    "def plot_learning_curves(record_dict, sample_step=500):\n",
    "    # build DataFrame\n",
    "    train_df = pd.DataFrame(record_dict[\"train\"]).set_index(\"step\").iloc[::sample_step]\n",
    "    val_df = pd.DataFrame(record_dict[\"val\"]).set_index(\"step\")\n",
    "\n",
    "    # plot\n",
    "    fig_num = len(train_df.columns)\n",
    "    fig, axs = plt.subplots(1, fig_num, figsize=(5 * fig_num, 5))\n",
    "    for idx, item in enumerate(train_df.columns):    \n",
    "        axs[idx].plot(train_df.index, train_df[item], label=f\"train_{item}\")\n",
    "        axs[idx].plot(val_df.index, val_df[item], label=f\"val_{item}\")\n",
    "        axs[idx].grid()\n",
    "        axs[idx].legend()\n",
    "        # axs[idx].set_xticks(range(0, train_df.index[-1], 5000))\n",
    "        # axs[idx].set_xticklabels(map(lambda x: f\"{int(x/1000)}k\", range(0, train_df.index[-1], 5000)))\n",
    "        axs[idx].set_xlabel(\"step\")\n",
    "    \n",
    "    plt.show()\n",
    "\n",
    "plot_learning_curves(record, sample_step=100)  #横坐标是 steps"
   ]
  },
  {
   "cell_type": "markdown",
   "id": "1b63e257ab2c1a90",
   "metadata": {},
   "source": [
    "# 评估"
   ]
  },
  {
   "cell_type": "code",
   "execution_count": 47,
   "id": "1048a114a53e474e",
   "metadata": {
    "execution": {
     "iopub.execute_input": "2025-02-10T05:39:12.609036Z",
     "iopub.status.busy": "2025-02-10T05:39:12.608896Z",
     "iopub.status.idle": "2025-02-10T05:39:14.225421Z",
     "shell.execute_reply": "2025-02-10T05:39:14.224848Z",
     "shell.execute_reply.started": "2025-02-10T05:39:12.609022Z"
    }
   },
   "outputs": [
    {
     "name": "stderr",
     "output_type": "stream",
     "text": [
      "/tmp/ipykernel_2373/4227932207.py:3: FutureWarning: You are using `torch.load` with `weights_only=False` (the current default value), which uses the default pickle module implicitly. It is possible to construct malicious pickle data which will execute arbitrary code during unpickling (See https://github.com/pytorch/pytorch/blob/main/SECURITY.md#untrusted-models for more details). In a future release, the default value for `weights_only` will be flipped to `True`. This limits the functions that could be executed during unpickling. Arbitrary objects will no longer be allowed to be loaded via this mode unless they are explicitly allowlisted by the user via `torch.serialization.add_safe_globals`. We recommend you start setting `weights_only=True` for any use case where you don't have full control of the loaded file. Please open an issue on GitHub for any issues related to this experimental feature.\n",
      "  model.load_state_dict(torch.load(\"checkpoints/cifar-10/best.ckpt\", map_location=\"cpu\"))\n"
     ]
    },
    {
     "name": "stdout",
     "output_type": "stream",
     "text": [
      "loss:     0.4692\n",
      "accuracy: 0.8624\n"
     ]
    }
   ],
   "source": [
    "# dataload for evaluating\n",
    "# load checkpoints\n",
    "model.load_state_dict(torch.load(\"checkpoints/cifar-10/best.ckpt\", map_location=\"cpu\"))\n",
    "\n",
    "model.eval()\n",
    "loss, acc = evaluating(model, eval_dl, loss_fct)\n",
    "print(f\"loss:     {loss:.4f}\\naccuracy: {acc:.4f}\")"
   ]
  },
  {
   "cell_type": "markdown",
   "id": "4fc4dbb772c0eeba",
   "metadata": {},
   "source": [
    "# 推理"
   ]
  },
  {
   "cell_type": "code",
   "execution_count": 48,
   "id": "c2c4fe285a31d851",
   "metadata": {
    "execution": {
     "iopub.execute_input": "2025-02-10T05:39:14.226545Z",
     "iopub.status.busy": "2025-02-10T05:39:14.226118Z",
     "iopub.status.idle": "2025-02-10T05:40:53.041658Z",
     "shell.execute_reply": "2025-02-10T05:40:53.041214Z",
     "shell.execute_reply.started": "2025-02-10T05:39:14.226513Z"
    }
   },
   "outputs": [
    {
     "name": "stderr",
     "output_type": "stream",
     "text": [
      "100%|██████████| 4688/4688 [01:38<00:00, 47.45it/s]\n"
     ]
    }
   ],
   "source": [
    "# test_df\n",
    "test_ds = Cifar10Dataset(\"test\", transform=transforms_eval)\n",
    "test_dl = DataLoader(test_ds, batch_size=batch_size, shuffle=False, drop_last=False)\n",
    "\n",
    "preds_collect = [] # 预测结果收集器\n",
    "model.eval()\n",
    "for data, fake_label in tqdm(test_dl):\n",
    "    data = data.to(device=device)\n",
    "    logits = model(data) #得到预测结果\n",
    "    preds = [test_ds.idx_to_label[idx] for idx in logits.argmax(axis=-1).cpu().tolist()] # 得到预测类别，idx_to_label是id到字符串类别的映射\n",
    "    preds_collect.extend(preds)\n",
    "    \n"
   ]
  },
  {
   "cell_type": "code",
   "execution_count": 49,
   "id": "a76fb613bffd9667",
   "metadata": {
    "execution": {
     "iopub.execute_input": "2025-02-10T05:40:53.042377Z",
     "iopub.status.busy": "2025-02-10T05:40:53.042209Z",
     "iopub.status.idle": "2025-02-10T05:40:53.049051Z",
     "shell.execute_reply": "2025-02-10T05:40:53.048639Z",
     "shell.execute_reply.started": "2025-02-10T05:40:53.042361Z"
    }
   },
   "outputs": [
    {
     "data": {
      "text/html": [
       "<div>\n",
       "<style scoped>\n",
       "    .dataframe tbody tr th:only-of-type {\n",
       "        vertical-align: middle;\n",
       "    }\n",
       "\n",
       "    .dataframe tbody tr th {\n",
       "        vertical-align: top;\n",
       "    }\n",
       "\n",
       "    .dataframe thead th {\n",
       "        text-align: right;\n",
       "    }\n",
       "</style>\n",
       "<table border=\"1\" class=\"dataframe\">\n",
       "  <thead>\n",
       "    <tr style=\"text-align: right;\">\n",
       "      <th></th>\n",
       "      <th>filepath</th>\n",
       "      <th>class</th>\n",
       "    </tr>\n",
       "  </thead>\n",
       "  <tbody>\n",
       "    <tr>\n",
       "      <th>0</th>\n",
       "      <td>competitions/cifar-10/test/1.png</td>\n",
       "      <td>cat</td>\n",
       "    </tr>\n",
       "    <tr>\n",
       "      <th>1</th>\n",
       "      <td>competitions/cifar-10/test/2.png</td>\n",
       "      <td>cat</td>\n",
       "    </tr>\n",
       "    <tr>\n",
       "      <th>2</th>\n",
       "      <td>competitions/cifar-10/test/3.png</td>\n",
       "      <td>cat</td>\n",
       "    </tr>\n",
       "    <tr>\n",
       "      <th>3</th>\n",
       "      <td>competitions/cifar-10/test/4.png</td>\n",
       "      <td>cat</td>\n",
       "    </tr>\n",
       "    <tr>\n",
       "      <th>4</th>\n",
       "      <td>competitions/cifar-10/test/5.png</td>\n",
       "      <td>cat</td>\n",
       "    </tr>\n",
       "  </tbody>\n",
       "</table>\n",
       "</div>"
      ],
      "text/plain": [
       "                           filepath class\n",
       "0  competitions/cifar-10/test/1.png   cat\n",
       "1  competitions/cifar-10/test/2.png   cat\n",
       "2  competitions/cifar-10/test/3.png   cat\n",
       "3  competitions/cifar-10/test/4.png   cat\n",
       "4  competitions/cifar-10/test/5.png   cat"
      ]
     },
     "execution_count": 49,
     "metadata": {},
     "output_type": "execute_result"
    }
   ],
   "source": [
    "test_df.head()"
   ]
  },
  {
   "cell_type": "code",
   "execution_count": 50,
   "id": "2306fd68423d3c68",
   "metadata": {
    "execution": {
     "iopub.execute_input": "2025-02-10T05:40:53.049649Z",
     "iopub.status.busy": "2025-02-10T05:40:53.049497Z",
     "iopub.status.idle": "2025-02-10T05:40:53.103601Z",
     "shell.execute_reply": "2025-02-10T05:40:53.103167Z",
     "shell.execute_reply.started": "2025-02-10T05:40:53.049634Z"
    }
   },
   "outputs": [
    {
     "data": {
      "text/html": [
       "<div>\n",
       "<style scoped>\n",
       "    .dataframe tbody tr th:only-of-type {\n",
       "        vertical-align: middle;\n",
       "    }\n",
       "\n",
       "    .dataframe tbody tr th {\n",
       "        vertical-align: top;\n",
       "    }\n",
       "\n",
       "    .dataframe thead th {\n",
       "        text-align: right;\n",
       "    }\n",
       "</style>\n",
       "<table border=\"1\" class=\"dataframe\">\n",
       "  <thead>\n",
       "    <tr style=\"text-align: right;\">\n",
       "      <th></th>\n",
       "      <th>id</th>\n",
       "    </tr>\n",
       "  </thead>\n",
       "  <tbody>\n",
       "    <tr>\n",
       "      <th>0</th>\n",
       "      <td>1</td>\n",
       "    </tr>\n",
       "    <tr>\n",
       "      <th>1</th>\n",
       "      <td>2</td>\n",
       "    </tr>\n",
       "    <tr>\n",
       "      <th>2</th>\n",
       "      <td>3</td>\n",
       "    </tr>\n",
       "    <tr>\n",
       "      <th>3</th>\n",
       "      <td>4</td>\n",
       "    </tr>\n",
       "    <tr>\n",
       "      <th>4</th>\n",
       "      <td>5</td>\n",
       "    </tr>\n",
       "    <tr>\n",
       "      <th>...</th>\n",
       "      <td>...</td>\n",
       "    </tr>\n",
       "    <tr>\n",
       "      <th>299995</th>\n",
       "      <td>299996</td>\n",
       "    </tr>\n",
       "    <tr>\n",
       "      <th>299996</th>\n",
       "      <td>299997</td>\n",
       "    </tr>\n",
       "    <tr>\n",
       "      <th>299997</th>\n",
       "      <td>299998</td>\n",
       "    </tr>\n",
       "    <tr>\n",
       "      <th>299998</th>\n",
       "      <td>299999</td>\n",
       "    </tr>\n",
       "    <tr>\n",
       "      <th>299999</th>\n",
       "      <td>300000</td>\n",
       "    </tr>\n",
       "  </tbody>\n",
       "</table>\n",
       "<p>300000 rows × 1 columns</p>\n",
       "</div>"
      ],
      "text/plain": [
       "            id\n",
       "0            1\n",
       "1            2\n",
       "2            3\n",
       "3            4\n",
       "4            5\n",
       "...        ...\n",
       "299995  299996\n",
       "299996  299997\n",
       "299997  299998\n",
       "299998  299999\n",
       "299999  300000\n",
       "\n",
       "[300000 rows x 1 columns]"
      ]
     },
     "execution_count": 50,
     "metadata": {},
     "output_type": "execute_result"
    }
   ],
   "source": [
    "test_df1 = pd.DataFrame(list(range(1,3*10**5+1)), columns=[\"id\"])\n",
    "test_df1"
   ]
  },
  {
   "cell_type": "code",
   "execution_count": 51,
   "id": "37b6da03c3345e9b",
   "metadata": {
    "execution": {
     "iopub.execute_input": "2025-02-10T05:40:53.104548Z",
     "iopub.status.busy": "2025-02-10T05:40:53.104318Z",
     "iopub.status.idle": "2025-02-10T05:40:53.116727Z",
     "shell.execute_reply": "2025-02-10T05:40:53.116252Z",
     "shell.execute_reply.started": "2025-02-10T05:40:53.104524Z"
    }
   },
   "outputs": [
    {
     "data": {
      "text/html": [
       "<div>\n",
       "<style scoped>\n",
       "    .dataframe tbody tr th:only-of-type {\n",
       "        vertical-align: middle;\n",
       "    }\n",
       "\n",
       "    .dataframe tbody tr th {\n",
       "        vertical-align: top;\n",
       "    }\n",
       "\n",
       "    .dataframe thead th {\n",
       "        text-align: right;\n",
       "    }\n",
       "</style>\n",
       "<table border=\"1\" class=\"dataframe\">\n",
       "  <thead>\n",
       "    <tr style=\"text-align: right;\">\n",
       "      <th></th>\n",
       "      <th>id</th>\n",
       "      <th>label</th>\n",
       "    </tr>\n",
       "  </thead>\n",
       "  <tbody>\n",
       "    <tr>\n",
       "      <th>0</th>\n",
       "      <td>1</td>\n",
       "      <td>deer</td>\n",
       "    </tr>\n",
       "    <tr>\n",
       "      <th>1</th>\n",
       "      <td>2</td>\n",
       "      <td>airplane</td>\n",
       "    </tr>\n",
       "    <tr>\n",
       "      <th>2</th>\n",
       "      <td>3</td>\n",
       "      <td>automobile</td>\n",
       "    </tr>\n",
       "    <tr>\n",
       "      <th>3</th>\n",
       "      <td>4</td>\n",
       "      <td>ship</td>\n",
       "    </tr>\n",
       "    <tr>\n",
       "      <th>4</th>\n",
       "      <td>5</td>\n",
       "      <td>airplane</td>\n",
       "    </tr>\n",
       "  </tbody>\n",
       "</table>\n",
       "</div>"
      ],
      "text/plain": [
       "   id       label\n",
       "0   1        deer\n",
       "1   2    airplane\n",
       "2   3  automobile\n",
       "3   4        ship\n",
       "4   5    airplane"
      ]
     },
     "execution_count": 51,
     "metadata": {},
     "output_type": "execute_result"
    }
   ],
   "source": [
    "test_df1[\"label\"] = preds_collect # 增加预测类别列,比赛要求这一列是label\n",
    "test_df1.head()"
   ]
  },
  {
   "cell_type": "code",
   "execution_count": 52,
   "id": "13e9b67879186930",
   "metadata": {
    "execution": {
     "iopub.execute_input": "2025-02-10T05:40:53.117638Z",
     "iopub.status.busy": "2025-02-10T05:40:53.117360Z",
     "iopub.status.idle": "2025-02-10T05:40:53.258171Z",
     "shell.execute_reply": "2025-02-10T05:40:53.257653Z",
     "shell.execute_reply.started": "2025-02-10T05:40:53.117614Z"
    }
   },
   "outputs": [],
   "source": [
    "# 导出 submission.csv\n",
    "test_df1.to_csv(\"submission.csv\", index=False)"
   ]
  },
  {
   "cell_type": "code",
   "execution_count": 53,
   "id": "aed5eb236419359d",
   "metadata": {
    "execution": {
     "iopub.execute_input": "2025-02-10T05:40:53.258901Z",
     "iopub.status.busy": "2025-02-10T05:40:53.258669Z",
     "iopub.status.idle": "2025-02-10T05:40:53.386849Z",
     "shell.execute_reply": "2025-02-10T05:40:53.386319Z",
     "shell.execute_reply.started": "2025-02-10T05:40:53.258884Z"
    }
   },
   "outputs": [
    {
     "name": "stdout",
     "output_type": "stream",
     "text": [
      "cifar-10  cnn-relu  cnn-selu  dsc-selu\tmonkeys-cnn-relu  monkeys-resnet50\n"
     ]
    }
   ],
   "source": [
    "!ls checkpoints/"
   ]
  }
 ],
 "metadata": {
  "kernelspec": {
   "display_name": "Python 3 (ipykernel)",
   "language": "python",
   "name": "python3"
  },
  "language_info": {
   "codemirror_mode": {
    "name": "ipython",
    "version": 3
   },
   "file_extension": ".py",
   "mimetype": "text/x-python",
   "name": "python",
   "nbconvert_exporter": "python",
   "pygments_lexer": "ipython3",
   "version": "3.10.14"
  }
 },
 "nbformat": 4,
 "nbformat_minor": 5
}
