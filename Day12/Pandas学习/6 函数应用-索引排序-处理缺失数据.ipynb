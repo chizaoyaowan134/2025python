{
 "cells": [
  {
   "metadata": {},
   "cell_type": "markdown",
   "source": "# 6 Pandas的函数应用",
   "id": "7237601ff6e31e"
  },
  {
   "metadata": {
    "ExecuteTime": {
     "end_time": "2025-01-09T10:11:12.241244Z",
     "start_time": "2025-01-09T10:11:11.482084Z"
    }
   },
   "cell_type": "code",
   "source": [
    "import pandas as pd\n",
    "import numpy as np\n",
    "# Numpy ufunc 函数，randn跟的是维数\n",
    "df = pd.DataFrame(np.random.randn(5,4) - 1)\n",
    "print(df)\n",
    "print(np.abs(df)) #绝对值"
   ],
   "id": "fe52333a958867d",
   "outputs": [
    {
     "name": "stdout",
     "output_type": "stream",
     "text": [
      "          0         1         2         3\n",
      "0  0.102685 -0.955206 -0.329060 -0.121688\n",
      "1 -0.135726  0.611218  1.652473 -1.989394\n",
      "2 -0.956041 -1.031173  0.549868 -0.365762\n",
      "3 -0.737798 -0.187664 -1.486818 -3.092073\n",
      "4 -2.364394  0.476481 -2.237084 -2.266572\n",
      "          0         1         2         3\n",
      "0  0.102685  0.955206  0.329060  0.121688\n",
      "1  0.135726  0.611218  1.652473  1.989394\n",
      "2  0.956041  1.031173  0.549868  0.365762\n",
      "3  0.737798  0.187664  1.486818  3.092073\n",
      "4  2.364394  0.476481  2.237084  2.266572\n"
     ]
    }
   ],
   "execution_count": 1
  },
  {
   "metadata": {
    "ExecuteTime": {
     "end_time": "2025-01-09T10:16:54.679074Z",
     "start_time": "2025-01-09T10:16:54.674053Z"
    }
   },
   "cell_type": "code",
   "source": [
    "#apply默认作用在列上,x是每一列,因为axis=0\n",
    "print(df.apply(lambda x : x.max()))"
   ],
   "id": "f091e64f00768298",
   "outputs": [
    {
     "name": "stdout",
     "output_type": "stream",
     "text": [
      "0    0.102685\n",
      "1    0.611218\n",
      "2    1.652473\n",
      "3   -0.121688\n",
      "dtype: float64\n"
     ]
    }
   ],
   "execution_count": 2
  },
  {
   "metadata": {
    "ExecuteTime": {
     "end_time": "2025-01-09T10:17:58.302765Z",
     "start_time": "2025-01-09T10:17:58.297749Z"
    }
   },
   "cell_type": "code",
   "source": [
    "#apply作用在行上\n",
    "print(df.apply(lambda x : x.max(), axis=1))"
   ],
   "id": "60d3d55eaf452022",
   "outputs": [
    {
     "name": "stdout",
     "output_type": "stream",
     "text": [
      "0    0.102685\n",
      "1    1.652473\n",
      "2    0.549868\n",
      "3   -0.187664\n",
      "4    0.476481\n",
      "dtype: float64\n"
     ]
    }
   ],
   "execution_count": 3
  },
  {
   "metadata": {
    "ExecuteTime": {
     "end_time": "2025-01-09T10:19:42.918766Z",
     "start_time": "2025-01-09T10:19:42.908174Z"
    }
   },
   "cell_type": "code",
   "source": [
    "# 使用applymap应用到每个数据\n",
    "print(df.map(lambda x : '%.2f' % x))\n",
    "df.dtypes"
   ],
   "id": "fd3348bfd807f4c6",
   "outputs": [
    {
     "name": "stdout",
     "output_type": "stream",
     "text": [
      "       0      1      2      3\n",
      "0   0.10  -0.96  -0.33  -0.12\n",
      "1  -0.14   0.61   1.65  -1.99\n",
      "2  -0.96  -1.03   0.55  -0.37\n",
      "3  -0.74  -0.19  -1.49  -3.09\n",
      "4  -2.36   0.48  -2.24  -2.27\n"
     ]
    },
    {
     "data": {
      "text/plain": [
       "0    float64\n",
       "1    float64\n",
       "2    float64\n",
       "3    float64\n",
       "dtype: object"
      ]
     },
     "execution_count": 4,
     "metadata": {},
     "output_type": "execute_result"
    }
   ],
   "execution_count": 4
  },
  {
   "metadata": {
    "ExecuteTime": {
     "end_time": "2025-01-09T10:20:35.844524Z",
     "start_time": "2025-01-09T10:20:35.839574Z"
    }
   },
   "cell_type": "code",
   "source": "type('%.2f' % 1.3456)",
   "id": "1612312441516a37",
   "outputs": [
    {
     "data": {
      "text/plain": [
       "str"
      ]
     },
     "execution_count": 5,
     "metadata": {},
     "output_type": "execute_result"
    }
   ],
   "execution_count": 5
  },
  {
   "metadata": {},
   "cell_type": "markdown",
   "source": "## 6.4 索引排序（不重要）",
   "id": "d446d3d271cacdea"
  },
  {
   "metadata": {
    "ExecuteTime": {
     "end_time": "2025-01-09T10:25:13.699963Z",
     "start_time": "2025-01-09T10:25:13.687490Z"
    }
   },
   "cell_type": "code",
   "source": [
    "import numpy as np\n",
    "import pandas as pd\n",
    "\n",
    "# 使用 NumPy 生成一个大小为 5 的随机整数数组，每个数值在 [0, 4) 范围内\n",
    "print(np.random.randint(5, size=5))  # 输出一个包含 5 个随机整数的数组\n",
    "print('-' * 50)\n",
    "\n",
    "# 创建一个 pandas Series 对象\n",
    "# 数据范围是 10 到 14，索引是随机生成的整数（范围 [0, 4)，大小为 5）\n",
    "s4 = pd.Series(range(10, 15), index=np.random.randint(5, size=5))\n",
    "print(s4)  # 输出 Series 对象\n",
    "print('-' * 50)\n",
    "\n",
    "# **索引排序**\n",
    "# `sort_index()` 方法对 Series 的索引进行排序，返回一个新的排好索引的 Series\n",
    "print(s4.sort_index())  # 输出按索引排序后的 Series\n",
    "print(s4)  # 原 Series 未改变，说明 `sort_index()` 返回的是新对象\n",
    "\n",
    "# **索引方式的区别**\n",
    "# 使用 `iloc` 按位置索引，选取前 3 个数据\n",
    "print(s4.iloc[0:3])  # 输出前 3 个位置的数据\n",
    "\n",
    "# 如果使用切片语法 `[0:3]`：\n",
    "# 默认按 **位置索引** 选择数据，和 `iloc` 表现一致\n",
    "s4[0:3]  # 返回前 3 个位置的数据\n"
   ],
   "id": "e5cc798fa4e9baa0",
   "outputs": [
    {
     "name": "stdout",
     "output_type": "stream",
     "text": [
      "[3 0 2 2 0]\n",
      "--------------------------------------------------\n",
      "1    10\n",
      "1    11\n",
      "1    12\n",
      "4    13\n",
      "3    14\n",
      "dtype: int64\n",
      "--------------------------------------------------\n",
      "1    10\n",
      "1    11\n",
      "1    12\n",
      "3    14\n",
      "4    13\n",
      "dtype: int64\n",
      "1    10\n",
      "1    11\n",
      "1    12\n",
      "4    13\n",
      "3    14\n",
      "dtype: int64\n",
      "1    10\n",
      "1    11\n",
      "1    12\n",
      "dtype: int64\n"
     ]
    },
    {
     "data": {
      "text/plain": [
       "1    10\n",
       "1    11\n",
       "1    12\n",
       "dtype: int64"
      ]
     },
     "execution_count": 6,
     "metadata": {},
     "output_type": "execute_result"
    }
   ],
   "execution_count": 6
  },
  {
   "metadata": {},
   "cell_type": "code",
   "outputs": [],
   "execution_count": null,
   "source": "# s4.loc[1:2] #loc索引值唯一时可以切片",
   "id": "604e8015cf9d0709"
  },
  {
   "metadata": {
    "ExecuteTime": {
     "end_time": "2025-01-09T10:37:12.408812Z",
     "start_time": "2025-01-09T10:37:12.399069Z"
    }
   },
   "cell_type": "code",
   "source": [
    "# DataFrame\n",
    "df4 = pd.DataFrame(np.random.randn(5, 5),\n",
    "                   index=np.random.randint(5, size=5),\n",
    "                   columns=np.random.randint(5, size=5))\n",
    "print(df4)\n",
    "#轴零是行索引排序\n",
    "df4_isort = df4.sort_index(axis=0, ascending=False)\n",
    "print(df4_isort)"
   ],
   "id": "e4e292eaddafd152",
   "outputs": [
    {
     "name": "stdout",
     "output_type": "stream",
     "text": [
      "          2         4         3         1         1\n",
      "4  0.207077 -0.847682 -2.380047  1.129825  0.660733\n",
      "0 -0.150995 -1.140167  1.451081 -1.111487  0.128186\n",
      "0  1.001023 -0.063503  0.307389  0.220592  1.310088\n",
      "3  1.227751 -1.042762 -0.303662  0.627927  0.052625\n",
      "2 -0.807611 -1.386943 -0.201614 -0.795476  0.829581\n",
      "          2         4         3         1         1\n",
      "4  0.207077 -0.847682 -2.380047  1.129825  0.660733\n",
      "3  1.227751 -1.042762 -0.303662  0.627927  0.052625\n",
      "2 -0.807611 -1.386943 -0.201614 -0.795476  0.829581\n",
      "0  1.001023 -0.063503  0.307389  0.220592  1.310088\n",
      "0 -0.150995 -1.140167  1.451081 -1.111487  0.128186\n"
     ]
    }
   ],
   "execution_count": 7
  },
  {
   "metadata": {
    "ExecuteTime": {
     "end_time": "2025-01-09T10:39:53.593232Z",
     "start_time": "2025-01-09T10:39:53.585722Z"
    }
   },
   "cell_type": "code",
   "source": [
    "#轴1是列索引排序\n",
    "df4_isort = df4.sort_index(axis=1, ascending=True)\n",
    "print(df4_isort)"
   ],
   "id": "4e5e652b8e12bef7",
   "outputs": [
    {
     "name": "stdout",
     "output_type": "stream",
     "text": [
      "          1         1         2         3         4\n",
      "4  1.129825  0.660733  0.207077 -2.380047 -0.847682\n",
      "0 -1.111487  0.128186 -0.150995  1.451081 -1.140167\n",
      "0  0.220592  1.310088  1.001023  0.307389 -0.063503\n",
      "3  0.627927  0.052625  1.227751 -0.303662 -1.042762\n",
      "2 -0.795476  0.829581 -0.807611 -0.201614 -1.386943\n"
     ]
    }
   ],
   "execution_count": 8
  },
  {
   "metadata": {},
   "cell_type": "markdown",
   "source": "# 6.5 按值排序（机器学习，深度学习不重要，数据分析才需要）",
   "id": "2dacca3e065d1631"
  },
  {
   "metadata": {
    "ExecuteTime": {
     "end_time": "2025-01-09T10:42:47.995726Z",
     "start_time": "2025-01-09T10:42:47.989140Z"
    }
   },
   "cell_type": "code",
   "source": [
    "# 导入 pandas 和 random 库\n",
    "import pandas as pd\n",
    "import random\n",
    "\n",
    "# **生成随机数据**\n",
    "# 使用列表生成式创建一个包含 24 个随机整数的列表，每个整数范围在 [0, 100] 之间\n",
    "l = [random.randint(0, 100) for i in range(24)]  # 生成随机数列表\n",
    "\n",
    "# 将随机数列表转换为 6 行 4 列的 NumPy 数组，并创建一个 pandas DataFrame\n",
    "df4 = pd.DataFrame(np.array(l).reshape(6, 4))  # 生成 DataFrame 对象\n",
    "\n",
    "# 输出生成的原始 DataFrame\n",
    "print(df4)  # 打印初始 DataFrame 数据\n",
    "print('-' * 50)\n",
    "\n",
    "# **按值排序**\n",
    "# 使用 `sort_values` 方法对 DataFrame 的值进行排序\n",
    "# 参数解析：\n",
    "# - `by=3`：按第 3 列（列名为 3）中的值进行排序\n",
    "# - `axis=0`：按行排序（默认值，交换的是行的顺序）\n",
    "# - `ascending=False`：按降序排列\n",
    "df4_vsort = df4.sort_values(by=3, axis=0, ascending=False)\n",
    "\n",
    "# 输出按第 3 列降序排列后的 DataFrame\n",
    "print(df4_vsort)\n"
   ],
   "id": "1e1dd68a93d6d9cc",
   "outputs": [
    {
     "name": "stdout",
     "output_type": "stream",
     "text": [
      "     0   1   2   3\n",
      "0   77  37  60  25\n",
      "1   67  56  91  82\n",
      "2   94   9  55   7\n",
      "3    5  45  67  81\n",
      "4  100  18  38   5\n",
      "5   62  32  96  27\n",
      "--------------------------------------------------\n",
      "     0   1   2   3\n",
      "1   67  56  91  82\n",
      "3    5  45  67  81\n",
      "5   62  32  96  27\n",
      "0   77  37  60  25\n",
      "2   94   9  55   7\n",
      "4  100  18  38   5\n"
     ]
    }
   ],
   "execution_count": 9
  },
  {
   "metadata": {
    "ExecuteTime": {
     "end_time": "2025-01-09T10:50:52.625095Z",
     "start_time": "2025-01-09T10:50:52.617730Z"
    }
   },
   "cell_type": "code",
   "source": [
    "#按轴1排序，by后行索引名，交换的是列\n",
    "df4_vsort = df4.sort_values(by=3,axis=1, ascending=False) #寻找的是index里的3\n",
    "print(df4_vsort)"
   ],
   "id": "38eae4c88c113cba",
   "outputs": [
    {
     "name": "stdout",
     "output_type": "stream",
     "text": [
      "    3   2   1    0\n",
      "0  25  60  37   77\n",
      "1  82  91  56   67\n",
      "2   7  55   9   94\n",
      "3  81  67  45    5\n",
      "4   5  38  18  100\n",
      "5  27  96  32   62\n"
     ]
    }
   ],
   "execution_count": 10
  },
  {
   "metadata": {},
   "cell_type": "markdown",
   "source": "# 6.6 处理缺失数据（重要）",
   "id": "45221b9d88ca6c40"
  },
  {
   "metadata": {
    "ExecuteTime": {
     "end_time": "2025-01-09T10:52:07.113210Z",
     "start_time": "2025-01-09T10:52:07.103211Z"
    }
   },
   "cell_type": "code",
   "source": [
    "df_data = pd.DataFrame([np.random.randn(3), [1., 2., np.nan],\n",
    "                       [np.nan, 4., np.nan], [1., 2., 3.]])\n",
    "print(df_data.head())"
   ],
   "id": "20a46bc70be18a83",
   "outputs": [
    {
     "name": "stdout",
     "output_type": "stream",
     "text": [
      "          0         1         2\n",
      "0  0.592392 -0.296142 -0.442657\n",
      "1  1.000000  2.000000       NaN\n",
      "2       NaN  4.000000       NaN\n",
      "3  1.000000  2.000000  3.000000\n"
     ]
    }
   ],
   "execution_count": 11
  },
  {
   "metadata": {
    "ExecuteTime": {
     "end_time": "2025-01-09T10:52:31.501174Z",
     "start_time": "2025-01-09T10:52:31.493639Z"
    }
   },
   "cell_type": "code",
   "source": "df_data.iloc[2,0]",
   "id": "2dab4ab8bc690c1c",
   "outputs": [
    {
     "data": {
      "text/plain": [
       "np.float64(nan)"
      ]
     },
     "execution_count": 12,
     "metadata": {},
     "output_type": "execute_result"
    }
   ],
   "execution_count": 12
  },
  {
   "metadata": {
    "ExecuteTime": {
     "end_time": "2025-01-09T11:47:32.929523Z",
     "start_time": "2025-01-09T11:47:32.873014Z"
    }
   },
   "cell_type": "code",
   "source": [
    "#isnull来判断是否有空的数据\n",
    "print(df_data.isnull())"
   ],
   "id": "68a202071733f8d3",
   "outputs": [
    {
     "name": "stdout",
     "output_type": "stream",
     "text": [
      "       0      1      2\n",
      "0  False  False  False\n",
      "1  False  False   True\n",
      "2   True  False   True\n",
      "3  False  False  False\n"
     ]
    }
   ],
   "execution_count": 14
  },
  {
   "metadata": {
    "ExecuteTime": {
     "end_time": "2025-01-09T11:47:42.184087Z",
     "start_time": "2025-01-09T11:47:42.169086Z"
    }
   },
   "cell_type": "code",
   "source": [
    "#帮我计算df_data缺失率\n",
    "print(df_data.isnull().sum()/len(df_data))"
   ],
   "id": "5b984a3d7b56ac91",
   "outputs": [
    {
     "name": "stdout",
     "output_type": "stream",
     "text": [
      "0    0.25\n",
      "1    0.00\n",
      "2    0.50\n",
      "dtype: float64\n"
     ]
    }
   ],
   "execution_count": 15
  },
  {
   "metadata": {},
   "cell_type": "markdown",
   "source": "## 删除缺失数据",
   "id": "d3d4df56e60aa429"
  },
  {
   "metadata": {
    "ExecuteTime": {
     "end_time": "2025-01-09T12:27:59.730744Z",
     "start_time": "2025-01-09T12:27:59.716806Z"
    }
   },
   "cell_type": "code",
   "source": [
    "#默认一个样本，任何一个特征缺失，就删除\n",
    "#inplace True是修改的是原有的df\n",
    "#subset=[0]是指按第一列来删除,第一列有空值就删除对应的行\n",
    "print(df_data.dropna(subset=[0]))\n",
    "df_data"
   ],
   "id": "6f48bc6207afe5be",
   "outputs": [
    {
     "name": "stdout",
     "output_type": "stream",
     "text": [
      "          0         1         2\n",
      "0  0.592392 -0.296142 -0.442657\n",
      "1  1.000000  2.000000       NaN\n",
      "3  1.000000  2.000000  3.000000\n"
     ]
    },
    {
     "data": {
      "text/plain": [
       "          0         1         2\n",
       "0  0.592392 -0.296142 -0.442657\n",
       "1  1.000000  2.000000       NaN\n",
       "2       NaN  4.000000       NaN\n",
       "3  1.000000  2.000000  3.000000"
      ],
      "text/html": [
       "<div>\n",
       "<style scoped>\n",
       "    .dataframe tbody tr th:only-of-type {\n",
       "        vertical-align: middle;\n",
       "    }\n",
       "\n",
       "    .dataframe tbody tr th {\n",
       "        vertical-align: top;\n",
       "    }\n",
       "\n",
       "    .dataframe thead th {\n",
       "        text-align: right;\n",
       "    }\n",
       "</style>\n",
       "<table border=\"1\" class=\"dataframe\">\n",
       "  <thead>\n",
       "    <tr style=\"text-align: right;\">\n",
       "      <th></th>\n",
       "      <th>0</th>\n",
       "      <th>1</th>\n",
       "      <th>2</th>\n",
       "    </tr>\n",
       "  </thead>\n",
       "  <tbody>\n",
       "    <tr>\n",
       "      <th>0</th>\n",
       "      <td>0.592392</td>\n",
       "      <td>-0.296142</td>\n",
       "      <td>-0.442657</td>\n",
       "    </tr>\n",
       "    <tr>\n",
       "      <th>1</th>\n",
       "      <td>1.000000</td>\n",
       "      <td>2.000000</td>\n",
       "      <td>NaN</td>\n",
       "    </tr>\n",
       "    <tr>\n",
       "      <th>2</th>\n",
       "      <td>NaN</td>\n",
       "      <td>4.000000</td>\n",
       "      <td>NaN</td>\n",
       "    </tr>\n",
       "    <tr>\n",
       "      <th>3</th>\n",
       "      <td>1.000000</td>\n",
       "      <td>2.000000</td>\n",
       "      <td>3.000000</td>\n",
       "    </tr>\n",
       "  </tbody>\n",
       "</table>\n",
       "</div>"
      ]
     },
     "execution_count": 17,
     "metadata": {},
     "output_type": "execute_result"
    }
   ],
   "execution_count": 17
  },
  {
   "metadata": {
    "ExecuteTime": {
     "end_time": "2025-01-09T12:28:24.888439Z",
     "start_time": "2025-01-09T12:28:24.882870Z"
    }
   },
   "cell_type": "code",
   "source": [
    "#用的不多，用在某个特征缺失太多时，才会进行删除\n",
    "print(df_data.dropna(axis=1))  #某列由nan就删除该列"
   ],
   "id": "eb1bb93f7b54012e",
   "outputs": [
    {
     "name": "stdout",
     "output_type": "stream",
     "text": [
      "          1\n",
      "0 -0.296142\n",
      "1  2.000000\n",
      "2  4.000000\n",
      "3  2.000000\n"
     ]
    }
   ],
   "execution_count": 18
  },
  {
   "metadata": {},
   "cell_type": "markdown",
   "source": "## 填充缺失数据",
   "id": "80b14f8040313060"
  },
  {
   "metadata": {},
   "cell_type": "code",
   "outputs": [],
   "execution_count": null,
   "source": "# 均值，中位数，众数填充",
   "id": "e10e1e666582275e"
  },
  {
   "metadata": {
    "ExecuteTime": {
     "end_time": "2025-01-09T12:30:17.165301Z",
     "start_time": "2025-01-09T12:30:17.158315Z"
    }
   },
   "cell_type": "code",
   "source": [
    "#给零列的空值填为-100，按特征（按列）去填充\n",
    "print(df_data.iloc[:,0].fillna(-100.))\n",
    "df_data"
   ],
   "id": "f9068987ed039b14",
   "outputs": [
    {
     "name": "stdout",
     "output_type": "stream",
     "text": [
      "0      0.592392\n",
      "1      1.000000\n",
      "2   -100.000000\n",
      "3      1.000000\n",
      "Name: 0, dtype: float64\n"
     ]
    },
    {
     "data": {
      "text/plain": [
       "          0         1         2\n",
       "0  0.592392 -0.296142 -0.442657\n",
       "1  1.000000  2.000000       NaN\n",
       "2       NaN  4.000000       NaN\n",
       "3  1.000000  2.000000  3.000000"
      ],
      "text/html": [
       "<div>\n",
       "<style scoped>\n",
       "    .dataframe tbody tr th:only-of-type {\n",
       "        vertical-align: middle;\n",
       "    }\n",
       "\n",
       "    .dataframe tbody tr th {\n",
       "        vertical-align: top;\n",
       "    }\n",
       "\n",
       "    .dataframe thead th {\n",
       "        text-align: right;\n",
       "    }\n",
       "</style>\n",
       "<table border=\"1\" class=\"dataframe\">\n",
       "  <thead>\n",
       "    <tr style=\"text-align: right;\">\n",
       "      <th></th>\n",
       "      <th>0</th>\n",
       "      <th>1</th>\n",
       "      <th>2</th>\n",
       "    </tr>\n",
       "  </thead>\n",
       "  <tbody>\n",
       "    <tr>\n",
       "      <th>0</th>\n",
       "      <td>0.592392</td>\n",
       "      <td>-0.296142</td>\n",
       "      <td>-0.442657</td>\n",
       "    </tr>\n",
       "    <tr>\n",
       "      <th>1</th>\n",
       "      <td>1.000000</td>\n",
       "      <td>2.000000</td>\n",
       "      <td>NaN</td>\n",
       "    </tr>\n",
       "    <tr>\n",
       "      <th>2</th>\n",
       "      <td>NaN</td>\n",
       "      <td>4.000000</td>\n",
       "      <td>NaN</td>\n",
       "    </tr>\n",
       "    <tr>\n",
       "      <th>3</th>\n",
       "      <td>1.000000</td>\n",
       "      <td>2.000000</td>\n",
       "      <td>3.000000</td>\n",
       "    </tr>\n",
       "  </tbody>\n",
       "</table>\n",
       "</div>"
      ]
     },
     "execution_count": 19,
     "metadata": {},
     "output_type": "execute_result"
    }
   ],
   "execution_count": 19
  },
  {
   "metadata": {
    "ExecuteTime": {
     "end_time": "2025-01-09T12:30:28.004966Z",
     "start_time": "2025-01-09T12:30:27.999953Z"
    }
   },
   "cell_type": "code",
   "source": [
    "#依次拿到每一列\n",
    "for i in df_data.columns:\n",
    "    print(df_data.loc[:,i])"
   ],
   "id": "42d4a9f4929ff724",
   "outputs": [
    {
     "name": "stdout",
     "output_type": "stream",
     "text": [
      "0    0.592392\n",
      "1    1.000000\n",
      "2         NaN\n",
      "3    1.000000\n",
      "Name: 0, dtype: float64\n",
      "0   -0.296142\n",
      "1    2.000000\n",
      "2    4.000000\n",
      "3    2.000000\n",
      "Name: 1, dtype: float64\n",
      "0   -0.442657\n",
      "1         NaN\n",
      "2         NaN\n",
      "3    3.000000\n",
      "Name: 2, dtype: float64\n"
     ]
    }
   ],
   "execution_count": 20
  },
  {
   "metadata": {
    "ExecuteTime": {
     "end_time": "2025-01-09T12:30:48.502740Z",
     "start_time": "2025-01-09T12:30:48.497099Z"
    }
   },
   "cell_type": "code",
   "source": "df_data.iloc[:,0].fillna(-100.,inplace=True) #inplace=True后面会被删除",
   "id": "3598475c4551f2e",
   "outputs": [
    {
     "name": "stderr",
     "output_type": "stream",
     "text": [
      "C:\\Users\\14984\\AppData\\Local\\Temp\\ipykernel_79512\\2218614896.py:1: FutureWarning: A value is trying to be set on a copy of a DataFrame or Series through chained assignment using an inplace method.\n",
      "The behavior will change in pandas 3.0. This inplace method will never work because the intermediate object on which we are setting values always behaves as a copy.\n",
      "\n",
      "For example, when doing 'df[col].method(value, inplace=True)', try using 'df.method({col: value}, inplace=True)' or df[col] = df[col].method(value) instead, to perform the operation inplace on the original object.\n",
      "\n",
      "\n",
      "  df_data.iloc[:,0].fillna(-100.,inplace=True) #inplace=True后面会被删除\n"
     ]
    }
   ],
   "execution_count": 21
  },
  {
   "metadata": {
    "ExecuteTime": {
     "end_time": "2025-01-09T12:32:05.433056Z",
     "start_time": "2025-01-09T12:32:05.428605Z"
    }
   },
   "cell_type": "code",
   "source": "df_data.iloc[:,2]=df_data.iloc[:,2].fillna(df_data.iloc[:,2].mean()) #用均值填充空值",
   "id": "c4abc13d3f227553",
   "outputs": [],
   "execution_count": 22
  },
  {
   "metadata": {
    "ExecuteTime": {
     "end_time": "2025-01-09T12:32:16.651863Z",
     "start_time": "2025-01-09T12:32:16.645781Z"
    }
   },
   "cell_type": "code",
   "source": "df_data",
   "id": "9004cf930cc7c1b4",
   "outputs": [
    {
     "data": {
      "text/plain": [
       "            0         1         2\n",
       "0    0.592392 -0.296142 -0.442657\n",
       "1    1.000000  2.000000  1.278672\n",
       "2 -100.000000  4.000000  1.278672\n",
       "3    1.000000  2.000000  3.000000"
      ],
      "text/html": [
       "<div>\n",
       "<style scoped>\n",
       "    .dataframe tbody tr th:only-of-type {\n",
       "        vertical-align: middle;\n",
       "    }\n",
       "\n",
       "    .dataframe tbody tr th {\n",
       "        vertical-align: top;\n",
       "    }\n",
       "\n",
       "    .dataframe thead th {\n",
       "        text-align: right;\n",
       "    }\n",
       "</style>\n",
       "<table border=\"1\" class=\"dataframe\">\n",
       "  <thead>\n",
       "    <tr style=\"text-align: right;\">\n",
       "      <th></th>\n",
       "      <th>0</th>\n",
       "      <th>1</th>\n",
       "      <th>2</th>\n",
       "    </tr>\n",
       "  </thead>\n",
       "  <tbody>\n",
       "    <tr>\n",
       "      <th>0</th>\n",
       "      <td>0.592392</td>\n",
       "      <td>-0.296142</td>\n",
       "      <td>-0.442657</td>\n",
       "    </tr>\n",
       "    <tr>\n",
       "      <th>1</th>\n",
       "      <td>1.000000</td>\n",
       "      <td>2.000000</td>\n",
       "      <td>1.278672</td>\n",
       "    </tr>\n",
       "    <tr>\n",
       "      <th>2</th>\n",
       "      <td>-100.000000</td>\n",
       "      <td>4.000000</td>\n",
       "      <td>1.278672</td>\n",
       "    </tr>\n",
       "    <tr>\n",
       "      <th>3</th>\n",
       "      <td>1.000000</td>\n",
       "      <td>2.000000</td>\n",
       "      <td>3.000000</td>\n",
       "    </tr>\n",
       "  </tbody>\n",
       "</table>\n",
       "</div>"
      ]
     },
     "execution_count": 23,
     "metadata": {},
     "output_type": "execute_result"
    }
   ],
   "execution_count": 23
  }
 ],
 "metadata": {
  "kernelspec": {
   "display_name": "Python 3",
   "language": "python",
   "name": "python3"
  },
  "language_info": {
   "codemirror_mode": {
    "name": "ipython",
    "version": 2
   },
   "file_extension": ".py",
   "mimetype": "text/x-python",
   "name": "python",
   "nbconvert_exporter": "python",
   "pygments_lexer": "ipython2",
   "version": "2.7.6"
  }
 },
 "nbformat": 4,
 "nbformat_minor": 5
}
