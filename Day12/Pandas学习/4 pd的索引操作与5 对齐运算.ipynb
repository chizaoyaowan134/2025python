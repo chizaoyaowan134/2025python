{
 "cells": [
  {
   "metadata": {},
   "cell_type": "markdown",
   "source": "# 4 Pandas的索引操作",
   "id": "17621e057ab4918c"
  },
  {
   "metadata": {
    "ExecuteTime": {
     "end_time": "2025-01-09T06:00:30.230751Z",
     "start_time": "2025-01-09T06:00:29.586088Z"
    }
   },
   "cell_type": "code",
   "source": [
    "import pandas as pd\n",
    "import numpy as np"
   ],
   "id": "1b1ac5d41db28a6e",
   "outputs": [],
   "execution_count": 1
  },
  {
   "metadata": {
    "ExecuteTime": {
     "end_time": "2025-01-09T06:01:36.032752Z",
     "start_time": "2025-01-09T06:01:36.025553Z"
    }
   },
   "cell_type": "code",
   "source": [
    "\n",
    "dict_data = {'A': 1,\n",
    "             'B': pd.Timestamp('20190926'),\n",
    "             'C': pd.Series(1, index=list(range(4)),dtype='float32'),\n",
    "             'D': np.array([1,2,3,4],dtype='int32'),\n",
    "             'E': [\"Python\",\"Java\",\"C++\",\"C\"],\n",
    "             'F': 'wangdao' }\n",
    "df_obj2 = pd.DataFrame(dict_data)\n",
    "print(df_obj2.index)\n",
    "print(df_obj2)"
   ],
   "id": "7c295ec601a071b2",
   "outputs": [
    {
     "name": "stdout",
     "output_type": "stream",
     "text": [
      "Index([0, 1, 2, 3], dtype='int64')\n",
      "   A          B    C  D       E        F\n",
      "0  1 2019-09-26  1.0  1  Python  wangdao\n",
      "1  1 2019-09-26  1.0  2    Java  wangdao\n",
      "2  1 2019-09-26  1.0  3     C++  wangdao\n",
      "3  1 2019-09-26  1.0  4       C  wangdao\n"
     ]
    }
   ],
   "execution_count": 3
  },
  {
   "metadata": {
    "ExecuteTime": {
     "end_time": "2025-01-09T06:02:14.966734Z",
     "start_time": "2025-01-09T06:02:14.393309Z"
    }
   },
   "cell_type": "code",
   "source": [
    "# 索引对象的值不可变（上面代码增加）\n",
    "# df_obj2.index[0] = 2"
   ],
   "id": "395a1cd107f2cacb",
   "outputs": [
    {
     "ename": "TypeError",
     "evalue": "Index does not support mutable operations",
     "output_type": "error",
     "traceback": [
      "\u001B[1;31m---------------------------------------------------------------------------\u001B[0m",
      "\u001B[1;31mTypeError\u001B[0m                                 Traceback (most recent call last)",
      "Cell \u001B[1;32mIn[4], line 2\u001B[0m\n\u001B[0;32m      1\u001B[0m \u001B[38;5;66;03m# 索引对象的值不可变（上面代码增加）\u001B[39;00m\n\u001B[1;32m----> 2\u001B[0m \u001B[43mdf_obj2\u001B[49m\u001B[38;5;241;43m.\u001B[39;49m\u001B[43mindex\u001B[49m\u001B[43m[\u001B[49m\u001B[38;5;241;43m0\u001B[39;49m\u001B[43m]\u001B[49m \u001B[38;5;241m=\u001B[39m \u001B[38;5;241m2\u001B[39m\n",
      "File \u001B[1;32mD:\\develop_tools\\dev-tools-pyhton\\python312\\Lib\\site-packages\\pandas\\core\\indexes\\base.py:5371\u001B[0m, in \u001B[0;36mIndex.__setitem__\u001B[1;34m(self, key, value)\u001B[0m\n\u001B[0;32m   5369\u001B[0m \u001B[38;5;129m@final\u001B[39m\n\u001B[0;32m   5370\u001B[0m \u001B[38;5;28;01mdef\u001B[39;00m \u001B[38;5;21m__setitem__\u001B[39m(\u001B[38;5;28mself\u001B[39m, key, value) \u001B[38;5;241m-\u001B[39m\u001B[38;5;241m>\u001B[39m \u001B[38;5;28;01mNone\u001B[39;00m:\n\u001B[1;32m-> 5371\u001B[0m     \u001B[38;5;28;01mraise\u001B[39;00m \u001B[38;5;167;01mTypeError\u001B[39;00m(\u001B[38;5;124m\"\u001B[39m\u001B[38;5;124mIndex does not support mutable operations\u001B[39m\u001B[38;5;124m\"\u001B[39m)\n",
      "\u001B[1;31mTypeError\u001B[0m: Index does not support mutable operations"
     ]
    }
   ],
   "execution_count": 4
  },
  {
   "metadata": {},
   "cell_type": "markdown",
   "source": [
    "# 3 常见的Index种类\n",
    "•Index，索引  可以是各种类型\n",
    "•Int64Index，整数索引\n",
    "•MultiIndex，层级索引，难度较大\n",
    "•DatetimeIndex，时间戳类型"
   ],
   "id": "2efd9d3f099b6705"
  },
  {
   "metadata": {
    "ExecuteTime": {
     "end_time": "2025-01-09T07:09:59.555334Z",
     "start_time": "2025-01-09T07:09:59.502012Z"
    }
   },
   "cell_type": "code",
   "source": [
    "ser_obj = pd.Series(range(5), index = list(\"abcde\"))\n",
    "print(ser_obj)\n",
    "ser_obj.index"
   ],
   "id": "656f8fee5ae7a23d",
   "outputs": [
    {
     "name": "stdout",
     "output_type": "stream",
     "text": [
      "a    0\n",
      "b    1\n",
      "c    2\n",
      "d    3\n",
      "e    4\n",
      "dtype: int64\n"
     ]
    },
    {
     "data": {
      "text/plain": [
       "Index(['a', 'b', 'c', 'd', 'e'], dtype='object')"
      ]
     },
     "execution_count": 5,
     "metadata": {},
     "output_type": "execute_result"
    }
   ],
   "execution_count": 5
  },
  {
   "metadata": {
    "ExecuteTime": {
     "end_time": "2025-01-09T07:11:27.245096Z",
     "start_time": "2025-01-09T07:11:27.238349Z"
    }
   },
   "cell_type": "code",
   "source": [
    "# 行索引，不仅可以用索引名，可以用索引位置或来取\n",
    "print(ser_obj['b']) #索引名\n",
    "print(ser_obj[2]) #位置索引"
   ],
   "id": "445488d0881abe28",
   "outputs": [
    {
     "name": "stdout",
     "output_type": "stream",
     "text": [
      "1\n",
      "2\n"
     ]
    },
    {
     "name": "stderr",
     "output_type": "stream",
     "text": [
      "C:\\Users\\14984\\AppData\\Local\\Temp\\ipykernel_16124\\2834633063.py:3: FutureWarning: Series.__getitem__ treating keys as positions is deprecated. In a future version, integer keys will always be treated as labels (consistent with DataFrame behavior). To access a value by position, use `ser.iloc[pos]`\n",
      "  print(ser_obj[2]) #位置索引\n"
     ]
    }
   ],
   "execution_count": 6
  },
  {
   "metadata": {
    "ExecuteTime": {
     "end_time": "2025-01-09T07:12:46.440420Z",
     "start_time": "2025-01-09T07:12:46.411649Z"
    }
   },
   "cell_type": "code",
   "source": [
    "# 切片索引\n",
    "print(ser_obj.iloc[1:3])  #索引位置取数据，左闭右开\n",
    "print(ser_obj.loc['b':'d'])  #记住索引名  左闭右闭"
   ],
   "id": "51012b261b5317e0",
   "outputs": [
    {
     "name": "stdout",
     "output_type": "stream",
     "text": [
      "b    1\n",
      "c    2\n",
      "dtype: int64\n",
      "b    1\n",
      "c    2\n",
      "d    3\n",
      "dtype: int64\n"
     ]
    }
   ],
   "execution_count": 7
  },
  {
   "metadata": {
    "ExecuteTime": {
     "end_time": "2025-01-09T07:13:10.557302Z",
     "start_time": "2025-01-09T07:13:10.544264Z"
    }
   },
   "cell_type": "code",
   "source": [
    "# 不连续索引\n",
    "print(ser_obj.iloc[[0, 2, 4]])\n",
    "print(ser_obj.loc[['a', 'e']])"
   ],
   "id": "15d339e0ab72971b",
   "outputs": [
    {
     "name": "stdout",
     "output_type": "stream",
     "text": [
      "a    0\n",
      "c    2\n",
      "e    4\n",
      "dtype: int64\n",
      "a    0\n",
      "e    4\n",
      "dtype: int64\n"
     ]
    }
   ],
   "execution_count": 8
  },
  {
   "metadata": {
    "ExecuteTime": {
     "end_time": "2025-01-09T07:13:21.525795Z",
     "start_time": "2025-01-09T07:13:21.519282Z"
    }
   },
   "cell_type": "code",
   "source": [
    "# 布尔索引\n",
    "ser_bool = ser_obj > 2 # 得到一个布尔型Series\n",
    "print(ser_obj)\n",
    "print(ser_bool)\n"
   ],
   "id": "685b347993f27e2",
   "outputs": [
    {
     "name": "stdout",
     "output_type": "stream",
     "text": [
      "a    0\n",
      "b    1\n",
      "c    2\n",
      "d    3\n",
      "e    4\n",
      "dtype: int64\n",
      "a    False\n",
      "b    False\n",
      "c    False\n",
      "d     True\n",
      "e     True\n",
      "dtype: bool\n"
     ]
    }
   ],
   "execution_count": 9
  },
  {
   "metadata": {
    "ExecuteTime": {
     "end_time": "2025-01-09T07:14:05.223881Z",
     "start_time": "2025-01-09T07:14:05.217411Z"
    }
   },
   "cell_type": "code",
   "source": [
    "print('-'*50)\n",
    "print(ser_obj[ser_bool])\n",
    "\n",
    "print(ser_obj[ser_obj > 2]) #取出大于2的元素"
   ],
   "id": "d8a610277fcdd748",
   "outputs": [
    {
     "name": "stdout",
     "output_type": "stream",
     "text": [
      "--------------------------------------------------\n",
      "d    3\n",
      "e    4\n",
      "dtype: int64\n",
      "d    3\n",
      "e    4\n",
      "dtype: int64\n"
     ]
    }
   ],
   "execution_count": 10
  },
  {
   "metadata": {},
   "cell_type": "markdown",
   "source": "## 4.4 DataFrame索引",
   "id": "c4068e04a751e8d4"
  },
  {
   "metadata": {
    "ExecuteTime": {
     "end_time": "2025-01-09T07:15:30.692048Z",
     "start_time": "2025-01-09T07:15:30.682747Z"
    }
   },
   "cell_type": "code",
   "source": [
    "import numpy as np\n",
    "df_obj = pd.DataFrame(np.random.randn(5,4),\n",
    "                      columns = ['a', 'b', 'c', 'd'])\n",
    "print(df_obj.head())"
   ],
   "id": "4902306f6b27d5c8",
   "outputs": [
    {
     "name": "stdout",
     "output_type": "stream",
     "text": [
      "          a         b         c         d\n",
      "0  2.734458  0.147175  0.837429  0.352799\n",
      "1 -0.085030 -0.092779 -0.786356 -0.161821\n",
      "2  2.650033  1.677206  1.161337  0.267197\n",
      "3  0.176751  0.046350  2.075486  0.736642\n",
      "4 -1.512489 -0.873439  0.634075  0.006068\n"
     ]
    }
   ],
   "execution_count": 11
  },
  {
   "metadata": {
    "ExecuteTime": {
     "end_time": "2025-01-09T07:16:25.488459Z",
     "start_time": "2025-01-09T07:16:25.480943Z"
    }
   },
   "cell_type": "code",
   "source": [
    "# 列索引\n",
    "print(df_obj['a']) # 返回Series类型\n",
    "print('-'*50)\n",
    "print(df_obj[['a']]) # 返回DataFrame类型\n",
    "print('-'*50)\n",
    "print(type(df_obj[['a']])) # 返回DataFrame类型"
   ],
   "id": "7dd99bd87753e906",
   "outputs": [
    {
     "name": "stdout",
     "output_type": "stream",
     "text": [
      "0    2.734458\n",
      "1   -0.085030\n",
      "2    2.650033\n",
      "3    0.176751\n",
      "4   -1.512489\n",
      "Name: a, dtype: float64\n",
      "--------------------------------------------------\n",
      "          a\n",
      "0  2.734458\n",
      "1 -0.085030\n",
      "2  2.650033\n",
      "3  0.176751\n",
      "4 -1.512489\n",
      "--------------------------------------------------\n",
      "<class 'pandas.core.frame.DataFrame'>\n"
     ]
    }
   ],
   "execution_count": 12
  },
  {
   "metadata": {},
   "cell_type": "markdown",
   "source": "1. loc 标签索引(通过索引标签值获取数据)",
   "id": "24e3f4aabe344e6a"
  },
  {
   "metadata": {
    "ExecuteTime": {
     "end_time": "2025-01-09T07:17:54.714617Z",
     "start_time": "2025-01-09T07:17:54.706408Z"
    }
   },
   "cell_type": "code",
   "source": [
    "# 标签索引 loc，建议使用loc，效率更高\n",
    "# Series\n",
    "print(ser_obj)\n",
    "print(ser_obj['b':'d'])\n",
    "print(ser_obj.loc['b':'d']) #前闭后闭\n",
    "print('-'*50)"
   ],
   "id": "d0ba4064042fe336",
   "outputs": [
    {
     "name": "stdout",
     "output_type": "stream",
     "text": [
      "a    0\n",
      "b    1\n",
      "c    2\n",
      "d    3\n",
      "e    4\n",
      "dtype: int64\n",
      "b    1\n",
      "c    2\n",
      "d    3\n",
      "dtype: int64\n",
      "b    1\n",
      "c    2\n",
      "d    3\n",
      "dtype: int64\n",
      "--------------------------------------------------\n"
     ]
    }
   ],
   "execution_count": 13
  },
  {
   "metadata": {
    "ExecuteTime": {
     "end_time": "2025-01-09T07:18:37.264Z",
     "start_time": "2025-01-09T07:18:37.256638Z"
    }
   },
   "cell_type": "code",
   "source": [
    "# DataFrame\n",
    "df_obj = pd.DataFrame(np.random.randn(5,4),\n",
    "                      columns = list('abcd'),\n",
    "                      index=list('abcde'))\n",
    "print(df_obj)\n",
    "print('-'*50)\n",
    "print(df_obj['a'])  #建议不用,拿的是列\n",
    "print('-'*50)\n",
    "print(df_obj.loc['a'])  #拿的是行\n",
    "print('-'*50)"
   ],
   "id": "43a281ed79014dfe",
   "outputs": [
    {
     "name": "stdout",
     "output_type": "stream",
     "text": [
      "          a         b         c         d\n",
      "a  1.422436  0.087032 -1.441688 -1.091036\n",
      "b  0.304637 -0.070072  0.698863  1.893275\n",
      "c -0.892233  0.065410 -1.748221  0.694030\n",
      "d  0.567903 -0.015578  0.864070  0.810692\n",
      "e -0.607475 -0.379461 -1.347855  0.305613\n",
      "--------------------------------------------------\n",
      "a    1.422436\n",
      "b    0.304637\n",
      "c   -0.892233\n",
      "d    0.567903\n",
      "e   -0.607475\n",
      "Name: a, dtype: float64\n",
      "--------------------------------------------------\n",
      "a    1.422436\n",
      "b    0.087032\n",
      "c   -1.441688\n",
      "d   -1.091036\n",
      "Name: a, dtype: float64\n",
      "--------------------------------------------------\n"
     ]
    }
   ],
   "execution_count": 14
  },
  {
   "metadata": {
    "ExecuteTime": {
     "end_time": "2025-01-09T07:20:19.176154Z",
     "start_time": "2025-01-09T07:20:19.166133Z"
    }
   },
   "cell_type": "code",
   "source": [
    "# 第一个参数索引行，第二个参数是列,loc或者iloc效率高于直接用取下标的方式，前闭后闭\n",
    "print(df_obj)\n",
    "print('-'*50)\n",
    "print(df_obj.loc['a':'c', 'b':'d']) #连续索引\n",
    "print('-'*50)\n",
    "print(df_obj.loc[['a','c'], ['b','d']]) #不连续索引\n",
    "print('-'*50)\n",
    "print(df_obj.loc[['c'],['b']]) #取一个值,返回的是DataFrame类型\n",
    "print('-'*50)\n",
    "print(df_obj.loc['c','b'])  #取一个值\n",
    "print('-'*50)"
   ],
   "id": "107a11495f1b28f8",
   "outputs": [
    {
     "name": "stdout",
     "output_type": "stream",
     "text": [
      "          a         b         c         d\n",
      "a  1.422436  0.087032 -1.441688 -1.091036\n",
      "b  0.304637 -0.070072  0.698863  1.893275\n",
      "c -0.892233  0.065410 -1.748221  0.694030\n",
      "d  0.567903 -0.015578  0.864070  0.810692\n",
      "e -0.607475 -0.379461 -1.347855  0.305613\n",
      "--------------------------------------------------\n",
      "          b         c         d\n",
      "a  0.087032 -1.441688 -1.091036\n",
      "b -0.070072  0.698863  1.893275\n",
      "c  0.065410 -1.748221  0.694030\n",
      "--------------------------------------------------\n",
      "          b         d\n",
      "a  0.087032 -1.091036\n",
      "c  0.065410  0.694030\n",
      "--------------------------------------------------\n",
      "         b\n",
      "c  0.06541\n",
      "--------------------------------------------------\n",
      "0.06540997786943877\n",
      "--------------------------------------------------\n"
     ]
    }
   ],
   "execution_count": 17
  },
  {
   "metadata": {},
   "cell_type": "markdown",
   "source": "## iloc 位置索引(推荐使用)",
   "id": "2e1a183e5c46539f"
  },
  {
   "metadata": {
    "ExecuteTime": {
     "end_time": "2025-01-09T09:38:06.901318Z",
     "start_time": "2025-01-09T09:38:06.840077Z"
    }
   },
   "cell_type": "code",
   "source": [
    "ser_obj\n",
    "print('-'*50)\n",
    "# Series\n",
    "print(ser_obj[1:3])\n",
    "print('-'*50)\n",
    "print(ser_obj.iloc[1:3]) # 前闭后开[)，效率高"
   ],
   "id": "ee109fd3ad389dd0",
   "outputs": [
    {
     "name": "stdout",
     "output_type": "stream",
     "text": [
      "--------------------------------------------------\n",
      "b    1\n",
      "c    2\n",
      "dtype: int64\n",
      "--------------------------------------------------\n",
      "b    1\n",
      "c    2\n",
      "dtype: int64\n"
     ]
    }
   ],
   "execution_count": 18
  },
  {
   "metadata": {
    "ExecuteTime": {
     "end_time": "2025-01-09T09:42:59.715595Z",
     "start_time": "2025-01-09T09:42:59.639746Z"
    }
   },
   "cell_type": "code",
   "source": "df_obj",
   "id": "bf4a383fbe056430",
   "outputs": [
    {
     "data": {
      "text/plain": [
       "          a         b         c         d\n",
       "a  1.422436  0.087032 -1.441688 -1.091036\n",
       "b  0.304637 -0.070072  0.698863  1.893275\n",
       "c -0.892233  0.065410 -1.748221  0.694030\n",
       "d  0.567903 -0.015578  0.864070  0.810692\n",
       "e -0.607475 -0.379461 -1.347855  0.305613"
      ],
      "text/html": [
       "<div>\n",
       "<style scoped>\n",
       "    .dataframe tbody tr th:only-of-type {\n",
       "        vertical-align: middle;\n",
       "    }\n",
       "\n",
       "    .dataframe tbody tr th {\n",
       "        vertical-align: top;\n",
       "    }\n",
       "\n",
       "    .dataframe thead th {\n",
       "        text-align: right;\n",
       "    }\n",
       "</style>\n",
       "<table border=\"1\" class=\"dataframe\">\n",
       "  <thead>\n",
       "    <tr style=\"text-align: right;\">\n",
       "      <th></th>\n",
       "      <th>a</th>\n",
       "      <th>b</th>\n",
       "      <th>c</th>\n",
       "      <th>d</th>\n",
       "    </tr>\n",
       "  </thead>\n",
       "  <tbody>\n",
       "    <tr>\n",
       "      <th>a</th>\n",
       "      <td>1.422436</td>\n",
       "      <td>0.087032</td>\n",
       "      <td>-1.441688</td>\n",
       "      <td>-1.091036</td>\n",
       "    </tr>\n",
       "    <tr>\n",
       "      <th>b</th>\n",
       "      <td>0.304637</td>\n",
       "      <td>-0.070072</td>\n",
       "      <td>0.698863</td>\n",
       "      <td>1.893275</td>\n",
       "    </tr>\n",
       "    <tr>\n",
       "      <th>c</th>\n",
       "      <td>-0.892233</td>\n",
       "      <td>0.065410</td>\n",
       "      <td>-1.748221</td>\n",
       "      <td>0.694030</td>\n",
       "    </tr>\n",
       "    <tr>\n",
       "      <th>d</th>\n",
       "      <td>0.567903</td>\n",
       "      <td>-0.015578</td>\n",
       "      <td>0.864070</td>\n",
       "      <td>0.810692</td>\n",
       "    </tr>\n",
       "    <tr>\n",
       "      <th>e</th>\n",
       "      <td>-0.607475</td>\n",
       "      <td>-0.379461</td>\n",
       "      <td>-1.347855</td>\n",
       "      <td>0.305613</td>\n",
       "    </tr>\n",
       "  </tbody>\n",
       "</table>\n",
       "</div>"
      ]
     },
     "execution_count": 19,
     "metadata": {},
     "output_type": "execute_result"
    }
   ],
   "execution_count": 19
  },
  {
   "metadata": {
    "ExecuteTime": {
     "end_time": "2025-01-09T09:45:20.729276Z",
     "start_time": "2025-01-09T09:45:20.714087Z"
    }
   },
   "cell_type": "code",
   "source": [
    "# DataFrame，iloc是前闭后开[)\n",
    "print(df_obj)\n",
    "print('-'*50)\n",
    "print(df_obj.iloc[0:2, 0:2]) # 连续索引\n",
    "print('-'*50)\n",
    "print(df_obj.iloc[[0,2], [0,2]]) # 不连续索引\n",
    "print('-'*50)\n",
    "print(df_obj.iloc[0,0]) # 取一个值"
   ],
   "id": "aad1685db215c270",
   "outputs": [
    {
     "name": "stdout",
     "output_type": "stream",
     "text": [
      "          a         b         c         d\n",
      "a  1.422436  0.087032 -1.441688 -1.091036\n",
      "b  0.304637 -0.070072  0.698863  1.893275\n",
      "c -0.892233  0.065410 -1.748221  0.694030\n",
      "d  0.567903 -0.015578  0.864070  0.810692\n",
      "e -0.607475 -0.379461 -1.347855  0.305613\n",
      "--------------------------------------------------\n",
      "          a         b\n",
      "a  1.422436  0.087032\n",
      "b  0.304637 -0.070072\n",
      "--------------------------------------------------\n",
      "          a         c\n",
      "a  1.422436 -1.441688\n",
      "c -0.892233 -1.748221\n",
      "--------------------------------------------------\n",
      "1.4224362934118255\n"
     ]
    }
   ],
   "execution_count": 20
  },
  {
   "metadata": {
    "ExecuteTime": {
     "end_time": "2025-01-09T09:51:01.578304Z",
     "start_time": "2025-01-09T09:51:01.561907Z"
    }
   },
   "cell_type": "code",
   "source": [
    "#没有设置行和列索引的DataFrame，iloc和loc的区别\n",
    "df_obj2 = pd.DataFrame(np.random.randn(5,4))\n",
    "print(df_obj2)\n",
    "print('-'*50)\n",
    "print(df_obj2.iloc[0:2]) #左闭右开 2行\n",
    "print('-'*50)\n",
    "print(df_obj2.loc[0:2]) #左闭右闭 3行"
   ],
   "id": "ce1320dd8b454315",
   "outputs": [
    {
     "name": "stdout",
     "output_type": "stream",
     "text": [
      "          0         1         2         3\n",
      "0  0.357819  0.752548  1.232526 -0.865646\n",
      "1  0.172911  0.483154 -0.135426 -0.975568\n",
      "2  1.666272  0.354764 -1.307799 -0.571219\n",
      "3 -1.027573 -1.372882  1.037684  0.358516\n",
      "4  0.038318 -0.186146 -0.642466  1.873084\n",
      "--------------------------------------------------\n",
      "          0         1         2         3\n",
      "0  0.357819  0.752548  1.232526 -0.865646\n",
      "1  0.172911  0.483154 -0.135426 -0.975568\n",
      "--------------------------------------------------\n",
      "          0         1         2         3\n",
      "0  0.357819  0.752548  1.232526 -0.865646\n",
      "1  0.172911  0.483154 -0.135426 -0.975568\n",
      "2  1.666272  0.354764 -1.307799 -0.571219\n"
     ]
    }
   ],
   "execution_count": 21
  },
  {
   "metadata": {},
   "cell_type": "markdown",
   "source": "# 5 对齐运算",
   "id": "5fc215dfb3eec580"
  },
  {
   "metadata": {
    "ExecuteTime": {
     "end_time": "2025-01-09T09:53:05.012288Z",
     "start_time": "2025-01-09T09:53:05.006497Z"
    }
   },
   "cell_type": "code",
   "source": [
    "# 导入 pandas 库\n",
    "import pandas as pd\n",
    "\n",
    "# 创建第一个 Series 对象 s1\n",
    "# 数据范围是 10 到 19，索引范围是 0 到 9\n",
    "s1 = pd.Series(range(10, 20), index=range(10))\n",
    "\n",
    "# 创建第二个 Series 对象 s2\n",
    "# 数据范围是 20 到 24，索引范围是 0 到 4\n",
    "s2 = pd.Series(range(20, 25), index=range(5))\n",
    "\n",
    "# 对 Series 进行对齐运算\n",
    "print('s1 + s2: ')\n",
    "s3 = s1 + s2  # 根据索引对齐并进行加法运算\n",
    "\n",
    "# 输出结果\n",
    "print(s3)  # 缺失的数据（无法对齐的索引）结果为 NaN，即 pandas 使用 np.nan 表示缺失值"
   ],
   "id": "2d4bd81047de8c20",
   "outputs": [
    {
     "name": "stdout",
     "output_type": "stream",
     "text": [
      "s1 + s2: \n",
      "0    30.0\n",
      "1    32.0\n",
      "2    34.0\n",
      "3    36.0\n",
      "4    38.0\n",
      "5     NaN\n",
      "6     NaN\n",
      "7     NaN\n",
      "8     NaN\n",
      "9     NaN\n",
      "dtype: float64\n"
     ]
    }
   ],
   "execution_count": 23
  },
  {
   "metadata": {
    "ExecuteTime": {
     "end_time": "2025-01-09T10:01:28.033037Z",
     "start_time": "2025-01-09T10:01:28.027187Z"
    }
   },
   "cell_type": "code",
   "source": [
    "#两个长度不同的一维ndarray相加\n",
    "a1 = np.array([1,2,3,4,5])\n",
    "a2 = np.array([1]) # 长度为1\n",
    "print(a1)\n",
    "print(a2)\n",
    "print(a2.shape)\n",
    "print(a1+a2)"
   ],
   "id": "5bef3e22c747aa5",
   "outputs": [
    {
     "name": "stdout",
     "output_type": "stream",
     "text": [
      "[1 2 3 4 5]\n",
      "[1]\n",
      "(1,)\n",
      "[2 3 4 5 6]\n"
     ]
    }
   ],
   "execution_count": 25
  },
  {
   "metadata": {
    "ExecuteTime": {
     "end_time": "2025-01-09T10:02:14.412718Z",
     "start_time": "2025-01-09T10:02:14.404352Z"
    }
   },
   "cell_type": "code",
   "source": [
    "print(s2)\n",
    "s1"
   ],
   "id": "6e4c3b6baf4efeb4",
   "outputs": [
    {
     "name": "stdout",
     "output_type": "stream",
     "text": [
      "0    20\n",
      "1    21\n",
      "2    22\n",
      "3    23\n",
      "4    24\n",
      "dtype: int64\n"
     ]
    },
    {
     "data": {
      "text/plain": [
       "0    10\n",
       "1    11\n",
       "2    12\n",
       "3    13\n",
       "4    14\n",
       "5    15\n",
       "6    16\n",
       "7    17\n",
       "8    18\n",
       "9    19\n",
       "dtype: int64"
      ]
     },
     "execution_count": 26,
     "metadata": {},
     "output_type": "execute_result"
    }
   ],
   "execution_count": 26
  },
  {
   "metadata": {
    "ExecuteTime": {
     "end_time": "2025-01-09T10:03:24.448773Z",
     "start_time": "2025-01-09T10:03:24.436306Z"
    }
   },
   "cell_type": "code",
   "source": [
    "print(np.isnan(s3[6]))\n",
    "print('-'*50)\n",
    "print(s2.add(s1, fill_value = 0))  #未对齐的数据将和填充值做运算\n",
    "print(s2.sub(s1, fill_value = 0))"
   ],
   "id": "6d935b980ff2d5e5",
   "outputs": [
    {
     "name": "stdout",
     "output_type": "stream",
     "text": [
      "True\n",
      "--------------------------------------------------\n",
      "0    30.0\n",
      "1    32.0\n",
      "2    34.0\n",
      "3    36.0\n",
      "4    38.0\n",
      "5    15.0\n",
      "6    16.0\n",
      "7    17.0\n",
      "8    18.0\n",
      "9    19.0\n",
      "dtype: float64\n",
      "0    10.0\n",
      "1    10.0\n",
      "2    10.0\n",
      "3    10.0\n",
      "4    10.0\n",
      "5   -15.0\n",
      "6   -16.0\n",
      "7   -17.0\n",
      "8   -18.0\n",
      "9   -19.0\n",
      "dtype: float64\n"
     ]
    }
   ],
   "execution_count": 27
  },
  {
   "metadata": {
    "ExecuteTime": {
     "end_time": "2025-01-09T10:08:53.339050Z",
     "start_time": "2025-01-09T10:08:53.324106Z"
    }
   },
   "cell_type": "code",
   "source": [
    "#df的对齐运算\n",
    "import numpy as np\n",
    "df1 = pd.DataFrame(np.ones((2,2)), columns = ['a', 'b'])\n",
    "df2 = pd.DataFrame(np.ones((3,3)), columns = ['a', 'b', 'c'])\n",
    "print(df1)\n",
    "print(df2)\n",
    "print('-'*50)\n",
    "print(df2.dtypes)\n",
    "print(df1-df2)\n",
    "print(df2.sub(df1, fill_value = 2)) #未对齐的数据将和填充值做运算"
   ],
   "id": "aa4fd272b47f772d",
   "outputs": [
    {
     "name": "stdout",
     "output_type": "stream",
     "text": [
      "     a    b\n",
      "0  1.0  1.0\n",
      "1  1.0  1.0\n",
      "     a    b    c\n",
      "0  1.0  1.0  1.0\n",
      "1  1.0  1.0  1.0\n",
      "2  1.0  1.0  1.0\n",
      "--------------------------------------------------\n",
      "a    float64\n",
      "b    float64\n",
      "c    float64\n",
      "dtype: object\n",
      "     a    b   c\n",
      "0  0.0  0.0 NaN\n",
      "1  0.0  0.0 NaN\n",
      "2  NaN  NaN NaN\n",
      "     a    b    c\n",
      "0  0.0  0.0  0.0\n",
      "1  0.0  0.0  0.0\n",
      "2  0.0  0.0  0.0\n"
     ]
    }
   ],
   "execution_count": 30
  },
  {
   "metadata": {},
   "cell_type": "markdown",
   "source": "# 总结：没对齐的元素，默认填充NaN，对齐运算时，fill_value参数可以指定填充值。",
   "id": "45e4847e7bcd2c6a"
  },
  {
   "metadata": {},
   "cell_type": "code",
   "outputs": [],
   "execution_count": null,
   "source": "",
   "id": "26807c59b5ec6f61"
  }
 ],
 "metadata": {
  "kernelspec": {
   "display_name": "Python 3",
   "language": "python",
   "name": "python3"
  },
  "language_info": {
   "codemirror_mode": {
    "name": "ipython",
    "version": 2
   },
   "file_extension": ".py",
   "mimetype": "text/x-python",
   "name": "python",
   "nbconvert_exporter": "python",
   "pygments_lexer": "ipython2",
   "version": "2.7.6"
  }
 },
 "nbformat": 4,
 "nbformat_minor": 5
}
