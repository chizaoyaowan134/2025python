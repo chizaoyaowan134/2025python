{
 "cells": [
  {
   "metadata": {},
   "cell_type": "markdown",
   "source": "# numpy inf和nan",
   "id": "5fa240a47e13cde3"
  },
  {
   "metadata": {
    "ExecuteTime": {
     "end_time": "2025-01-09T04:19:18.233584Z",
     "start_time": "2025-01-09T04:19:18.069420Z"
    }
   },
   "cell_type": "code",
   "source": [
    "'''\n",
    "C 语言中表示最大的正整数值是 0x7FFF FFFF，最小的负整数是 0x8000 0000。\n",
    "查阅资料后，发现 inf 表示无穷大，需要使用 float(‘inf’) 函数来转化，那么对应的就有\tfloat('-inf') 表示无穷小了。\n",
    "这样你就可以使用任意数来判断和它的关系了。\n",
    "那什么时候会出现inf呢？ 比如一个数字除以0，Python中会报错，但是numpy中会是一个inf或者-inf\n",
    "另外还有 nan，这种写法在 pandans 中常见，表示缺失的数据，所以一般用 nan 来表示。任何与其做运算结果都是 nan\n",
    "'''\n",
    "import numpy as np\n",
    "#nan 是not a number的缩写，表示非数字，在numpy中表示一个非数字值，可以用来表示缺失数据\n",
    "# 创建一个nan和inf #\n",
    "a = np.nan\n",
    "b = np.inf\n",
    "print(a, type(a))\n",
    "print(b, type(b))"
   ],
   "id": "7046faf9782fa76c",
   "outputs": [
    {
     "name": "stdout",
     "output_type": "stream",
     "text": [
      "nan <class 'float'>\n",
      "inf <class 'float'>\n"
     ]
    }
   ],
   "execution_count": 1
  },
  {
   "metadata": {
    "ExecuteTime": {
     "end_time": "2025-01-09T04:20:38.366447Z",
     "start_time": "2025-01-09T04:20:38.360504Z"
    }
   },
   "cell_type": "code",
   "source": [
    "# 并 且  np.nan != np.nan\t结果 是TRUE\n",
    "# 所以我们可以使用这两个结合使用判断nan的个数\n",
    "print(np.nan == np.nan)\n",
    "print(True == 1)\n",
    "print(False == 0)\n",
    "np.nan + 1  #nan和其他数运算的结果都是nan"
   ],
   "id": "1844822ad6418f8d",
   "outputs": [
    {
     "name": "stdout",
     "output_type": "stream",
     "text": [
      "False\n",
      "True\n",
      "True\n"
     ]
    },
    {
     "data": {
      "text/plain": [
       "nan"
      ]
     },
     "execution_count": 2,
     "metadata": {},
     "output_type": "execute_result"
    }
   ],
   "execution_count": 2
  },
  {
   "metadata": {
    "ExecuteTime": {
     "end_time": "2025-01-09T04:22:03.713803Z",
     "start_time": "2025-01-09T04:22:03.708860Z"
    }
   },
   "cell_type": "code",
   "source": [
    "# --判断数组中为nan的个数\n",
    "t = np.arange(24, dtype=float).reshape(4, 6) # 创建一个4行6列的数组,数据类型为float\n",
    "print(t)\n",
    "print(t.shape) # 输出数组的形状\n",
    "print(\"-\" * 50)\n",
    "# 将三行四列的数改成nan\n",
    "t[3, 4] = np.nan\n",
    "t[2, 4] = np.nan\n",
    "print(t)"
   ],
   "id": "a75a5941ab025789",
   "outputs": [
    {
     "name": "stdout",
     "output_type": "stream",
     "text": [
      "[[ 0.  1.  2.  3.  4.  5.]\n",
      " [ 6.  7.  8.  9. 10. 11.]\n",
      " [12. 13. 14. 15. 16. 17.]\n",
      " [18. 19. 20. 21. 22. 23.]]\n",
      "(4, 6)\n",
      "--------------------------------------------------\n",
      "[[ 0.  1.  2.  3.  4.  5.]\n",
      " [ 6.  7.  8.  9. 10. 11.]\n",
      " [12. 13. 14. 15. nan 17.]\n",
      " [18. 19. 20. 21. nan 23.]]\n"
     ]
    }
   ],
   "execution_count": 5
  },
  {
   "metadata": {
    "ExecuteTime": {
     "end_time": "2025-01-09T04:22:48.033469Z",
     "start_time": "2025-01-09T04:22:48.027704Z"
    }
   },
   "cell_type": "code",
   "source": [
    "# 可以使用np.count_nonzero() 来判断非零的个数\n",
    "# print(np.count_nonzero(t))\n",
    "print(t != t)\n",
    "print('-' * 50)\n",
    "print(np.count_nonzero(t != t))  # 统计nan的个数"
   ],
   "id": "6637add9a473f372",
   "outputs": [
    {
     "name": "stdout",
     "output_type": "stream",
     "text": [
      "[[False False False False False False]\n",
      " [False False False False False False]\n",
      " [False False False False  True False]\n",
      " [False False False False  True False]]\n",
      "--------------------------------------------------\n",
      "2\n"
     ]
    }
   ],
   "execution_count": 6
  },
  {
   "metadata": {
    "ExecuteTime": {
     "end_time": "2025-01-09T04:23:33.908329Z",
     "start_time": "2025-01-09T04:23:33.904397Z"
    }
   },
   "cell_type": "code",
   "source": [
    "# 将nan替换为0\n",
    "t[np.isnan(t)] = 0\n",
    "print(t)"
   ],
   "id": "c7e717957c605495",
   "outputs": [
    {
     "name": "stdout",
     "output_type": "stream",
     "text": [
      "[[ 0.  1.  2.  3.  4.  5.]\n",
      " [ 6.  7.  8.  9. 10. 11.]\n",
      " [12. 13. 14. 15.  0. 17.]\n",
      " [18. 19. 20. 21.  0. 23.]]\n"
     ]
    }
   ],
   "execution_count": 7
  },
  {
   "metadata": {
    "ExecuteTime": {
     "end_time": "2025-01-09T04:23:55.114368Z",
     "start_time": "2025-01-09T04:23:55.111030Z"
    }
   },
   "cell_type": "code",
   "source": "import numpy as np",
   "id": "e7cb8d406610691d",
   "outputs": [],
   "execution_count": 8
  },
  {
   "metadata": {
    "ExecuteTime": {
     "end_time": "2025-01-09T04:25:28.628252Z",
     "start_time": "2025-01-09T04:25:28.622721Z"
    }
   },
   "cell_type": "code",
   "source": [
    "# ----------练习： 处理数组中nan\n",
    "t = np.arange(24).reshape(4, 6).astype('float')\n",
    "#\n",
    "# 将数组中的一部分替换nan\n",
    "t[1, 3:] = np.nan\n",
    "print(t)\n",
    "print('-------------------')\n",
    "print(t.shape)\n",
    "print(id(t))"
   ],
   "id": "b1c01aae9da31370",
   "outputs": [
    {
     "name": "stdout",
     "output_type": "stream",
     "text": [
      "[[ 0.  1.  2.  3.  4.  5.]\n",
      " [ 6.  7.  8. nan nan nan]\n",
      " [12. 13. 14. 15. 16. 17.]\n",
      " [18. 19. 20. 21. 22. 23.]]\n",
      "-------------------\n",
      "(4, 6)\n",
      "2325697226160\n"
     ]
    }
   ],
   "execution_count": 9
  },
  {
   "metadata": {
    "ExecuteTime": {
     "end_time": "2025-01-09T04:25:52.463232Z",
     "start_time": "2025-01-09T04:25:52.458887Z"
    }
   },
   "cell_type": "code",
   "source": "t.shape[1]  #很长的一句代码，不理解，拆出来一部分来理解",
   "id": "87b35f483814eb9e",
   "outputs": [
    {
     "data": {
      "text/plain": [
       "6"
      ]
     },
     "execution_count": 10,
     "metadata": {},
     "output_type": "execute_result"
    }
   ],
   "execution_count": 10
  },
  {
   "metadata": {
    "ExecuteTime": {
     "end_time": "2025-01-09T04:34:38.430008Z",
     "start_time": "2025-01-09T04:34:38.421247Z"
    }
   },
   "cell_type": "code",
   "source": [
    "# 遍历矩阵 t 的每一列，检查是否包含 NaN，并进行处理\n",
    "for i in range(t.shape[1]):  # 遍历每一列，range(t.shape[1])表示列索引从 0 到列数 - 1\n",
    "    # 获取当前列数据\n",
    "    temp_col = t[:, i]  # 使用切片获取第 i 列的所有数据\n",
    "    \n",
    "    # 判断当前列的数据中是否含有 NaN\n",
    "    nan_num = np.count_nonzero(temp_col != temp_col)  \n",
    "    # 利用 NaN 的性质：NaN 不等于自身 (NaN != NaN 为 True)，统计 NaN 的个数\n",
    "    # np.count_nonzero 统计数组中非零元素的数量，因此可以统计 NaN 的数量\n",
    "    \n",
    "    # 如果当前列含有 NaN，则需要进行处理\n",
    "    if nan_num != 0:\n",
    "        # 将当前列中不为 NaN 的数据提取出来\n",
    "        temp_col_not_nan = temp_col[temp_col == temp_col]  \n",
    "        # 利用 NaN 的特性，temp_col == temp_col 会返回一个布尔数组，True 表示非 NaN 元素\n",
    "        \n",
    "        print(temp_col_not_nan)  # 打印不含 NaN 的数据，用于检查\n",
    "        \n",
    "        # 将 NaN 替换为当前列的平均值\n",
    "        temp_col[np.isnan(temp_col)] = np.mean(temp_col_not_nan)  \n",
    "        # np.isnan(temp_col) 返回一个布尔数组，True 表示 NaN 元素\n",
    "        # 使用 np.mean 计算非 NaN 数据的平均值，并替换所有 NaN\n",
    "\n",
    "# 打印分隔线，用于区分输出内容\n",
    "print('-' * 50)\n",
    "\n",
    "# 打印处理后的矩阵\n",
    "print(t)\n",
    "\n",
    "# 打印矩阵 t 的内存地址\n",
    "# 用于验证 t 是否是原始矩阵，且是否被原地修改\n",
    "print(id(t))\n"
   ],
   "id": "d531714cfc14b5d9",
   "outputs": [
    {
     "name": "stdout",
     "output_type": "stream",
     "text": [
      "[ 3. 15. 21.]\n",
      "[ 4. 16. 22.]\n",
      "[ 5. 17. 23.]\n",
      "--------------------------------------------------\n",
      "[[ 0.  1.  2.  3.  4.  5.]\n",
      " [ 6.  7.  8. 13. 14. 15.]\n",
      " [12. 13. 14. 15. 16. 17.]\n",
      " [18. 19. 20. 21. 22. 23.]]\n",
      "2325697226160\n"
     ]
    }
   ],
   "execution_count": 11
  },
  {
   "metadata": {
    "ExecuteTime": {
     "end_time": "2025-01-09T04:55:20.592121Z",
     "start_time": "2025-01-09T04:55:20.586634Z"
    }
   },
   "cell_type": "code",
   "source": [
    "print(np.inf == np.inf)\n",
    "np.inf"
   ],
   "id": "41720ff0472a5a95",
   "outputs": [
    {
     "name": "stdout",
     "output_type": "stream",
     "text": [
      "True\n"
     ]
    },
    {
     "data": {
      "text/plain": [
       "inf"
      ]
     },
     "execution_count": 12,
     "metadata": {},
     "output_type": "execute_result"
    }
   ],
   "execution_count": 12
  },
  {
   "metadata": {
    "ExecuteTime": {
     "end_time": "2025-01-09T04:55:29.262492Z",
     "start_time": "2025-01-09T04:55:29.257494Z"
    }
   },
   "cell_type": "code",
   "source": "np.inf >-np.inf #inf大于-inf",
   "id": "6abab5df2e28e101",
   "outputs": [
    {
     "data": {
      "text/plain": [
       "True"
      ]
     },
     "execution_count": 13,
     "metadata": {},
     "output_type": "execute_result"
    }
   ],
   "execution_count": 13
  },
  {
   "metadata": {
    "ExecuteTime": {
     "end_time": "2025-01-09T04:57:23.556498Z",
     "start_time": "2025-01-09T04:57:23.550066Z"
    }
   },
   "cell_type": "code",
   "source": [
    "# np.nan和任何数据运算的结果都是nan\n",
    "t = np.arange(24).reshape(4, 6).astype('float')\n",
    "#\n",
    "# 将数组中的一部分替换nan\n",
    "t[1, 3:] = np.nan\n",
    "print(t)\n",
    "t1 = np.arange(24).reshape(4, 6).astype('float')\n",
    "print(\"-\" * 50)\n",
    "print(t1)\n",
    "t + t1"
   ],
   "id": "e3a58cb1ee83102e",
   "outputs": [
    {
     "name": "stdout",
     "output_type": "stream",
     "text": [
      "[[ 0.  1.  2.  3.  4.  5.]\n",
      " [ 6.  7.  8. nan nan nan]\n",
      " [12. 13. 14. 15. 16. 17.]\n",
      " [18. 19. 20. 21. 22. 23.]]\n",
      "--------------------------------------------------\n",
      "[[ 0.  1.  2.  3.  4.  5.]\n",
      " [ 6.  7.  8.  9. 10. 11.]\n",
      " [12. 13. 14. 15. 16. 17.]\n",
      " [18. 19. 20. 21. 22. 23.]]\n"
     ]
    },
    {
     "data": {
      "text/plain": [
       "array([[ 0.,  2.,  4.,  6.,  8., 10.],\n",
       "       [12., 14., 16., nan, nan, nan],\n",
       "       [24., 26., 28., 30., 32., 34.],\n",
       "       [36., 38., 40., 42., 44., 46.]])"
      ]
     },
     "execution_count": 18,
     "metadata": {},
     "output_type": "execute_result"
    }
   ],
   "execution_count": 18
  },
  {
   "metadata": {
    "ExecuteTime": {
     "end_time": "2025-01-09T04:57:43.469859Z",
     "start_time": "2025-01-09T04:57:43.464780Z"
    }
   },
   "cell_type": "code",
   "source": [
    "arr = np.array([-1, 0])\n",
    "print(arr)\n",
    "print(arr[0] / arr[1])  #1除0就会得到inf"
   ],
   "id": "94d8b19dae705bb6",
   "outputs": [
    {
     "name": "stdout",
     "output_type": "stream",
     "text": [
      "[-1  0]\n",
      "-inf\n"
     ]
    },
    {
     "name": "stderr",
     "output_type": "stream",
     "text": [
      "C:\\Users\\14984\\AppData\\Local\\Temp\\ipykernel_70820\\773640058.py:3: RuntimeWarning: divide by zero encountered in scalar divide\n",
      "  print(arr[0] / arr[1])  #1除0就会得到inf\n"
     ]
    }
   ],
   "execution_count": 19
  },
  {
   "metadata": {
    "ExecuteTime": {
     "end_time": "2025-01-09T04:57:58.305820Z",
     "start_time": "2025-01-09T04:57:58.299300Z"
    }
   },
   "cell_type": "code",
   "source": "np.nan + np.inf  #nan和inf的运算结果都是nan",
   "id": "cb890d87e25d4f31",
   "outputs": [
    {
     "data": {
      "text/plain": [
       "nan"
      ]
     },
     "execution_count": 20,
     "metadata": {},
     "output_type": "execute_result"
    }
   ],
   "execution_count": 20
  },
  {
   "metadata": {},
   "cell_type": "markdown",
   "source": "# 转置和轴滚动",
   "id": "b258b80b90c4e05"
  },
  {
   "metadata": {
    "ExecuteTime": {
     "end_time": "2025-01-09T05:04:04.153094Z",
     "start_time": "2025-01-09T05:04:04.148581Z"
    }
   },
   "cell_type": "code",
   "source": [
    "# 导入 numpy 模块，用于数组操作\n",
    "import numpy as np\n",
    "\n",
    "# 创建一个 3x4 的数组，元素为 0 到 11\n",
    "a = np.arange(12).reshape(3, 4)  \n",
    "# np.arange(12) 生成 0 到 11 的一维数组\n",
    "# reshape(3, 4) 将其重新排列为 3 行 4 列的二维数组\n",
    "\n",
    "# 打印原数组\n",
    "print('原数组：')\n",
    "print(a)  # 输出 3x4 的原始数组\n",
    "print('\\n')  # 输出空行，便于阅读\n",
    "\n",
    "# 使用 np.transpose() 对数组进行转置\n",
    "print('对换数组：')\n",
    "print(np.transpose(a))  # 转置后，行和列互换，变为 4x3 的数组\n",
    "print('\\n')\n",
    "# 验证原数组是否被改变\n",
    "print(a)  # 原数组不会被 np.transpose 修改\n",
    "\n",
    "# 创建一个新的 3x4 数组，用于验证 .T 方法与 np.transpose 的一致性\n",
    "a = np.arange(12).reshape(3, 4)\n",
    "\n",
    "# 打印原数组\n",
    "print('原数组：')\n",
    "print(a)  # 再次输出 3x4 的原始数组\n",
    "print('\\n')\n",
    "\n",
    "# 使用 .T 属性对数组进行转置\n",
    "print('转置数组：')\n",
    "print(a.T)  # 转置后，行和列互换，变为 4x3 的数组\n"
   ],
   "id": "98b1a247cf9cdf3d",
   "outputs": [
    {
     "name": "stdout",
     "output_type": "stream",
     "text": [
      "原数组：\n",
      "[[ 0  1  2  3]\n",
      " [ 4  5  6  7]\n",
      " [ 8  9 10 11]]\n",
      "\n",
      "\n",
      "对换数组：\n",
      "[[ 0  4  8]\n",
      " [ 1  5  9]\n",
      " [ 2  6 10]\n",
      " [ 3  7 11]]\n",
      "\n",
      "\n",
      "[[ 0  1  2  3]\n",
      " [ 4  5  6  7]\n",
      " [ 8  9 10 11]]\n",
      "原数组：\n",
      "[[ 0  1  2  3]\n",
      " [ 4  5  6  7]\n",
      " [ 8  9 10 11]]\n",
      "\n",
      "\n",
      "转置数组：\n",
      "[[ 0  4  8]\n",
      " [ 1  5  9]\n",
      " [ 2  6 10]\n",
      " [ 3  7 11]]\n"
     ]
    }
   ],
   "execution_count": 22
  },
  {
   "metadata": {
    "ExecuteTime": {
     "end_time": "2025-01-09T05:05:13.973961Z",
     "start_time": "2025-01-09T05:05:13.969059Z"
    }
   },
   "cell_type": "code",
   "source": [
    "# 函数用于交换数组的两个轴\n",
    "t1 = np.arange(24).reshape(4, 6)\n",
    "re1 = t1.swapaxes(1, 0)\n",
    "\n",
    "print(' 原 数 组 ：')\n",
    "print(t1)\n",
    "print('\\n')\n",
    "print(re1.shape)\n",
    "print('调用 swapaxes 函数后的数组：')\n",
    "print(re1)\n"
   ],
   "id": "bc6193577c361c6b",
   "outputs": [
    {
     "name": "stdout",
     "output_type": "stream",
     "text": [
      " 原 数 组 ：\n",
      "[[ 0  1  2  3  4  5]\n",
      " [ 6  7  8  9 10 11]\n",
      " [12 13 14 15 16 17]\n",
      " [18 19 20 21 22 23]]\n",
      "\n",
      "\n",
      "(6, 4)\n",
      "调用 swapaxes 函数后的数组：\n",
      "[[ 0  6 12 18]\n",
      " [ 1  7 13 19]\n",
      " [ 2  8 14 20]\n",
      " [ 3  9 15 21]\n",
      " [ 4 10 16 22]\n",
      " [ 5 11 17 23]]\n"
     ]
    }
   ],
   "execution_count": 23
  },
  {
   "metadata": {
    "ExecuteTime": {
     "end_time": "2025-01-09T05:05:53.991009Z",
     "start_time": "2025-01-09T05:05:53.986216Z"
    }
   },
   "cell_type": "code",
   "source": [
    "#如果是3维及以上，称为轴交换\n",
    "t3 = np.arange(60).reshape(3, 4, 5)\n",
    "print(t3.shape)\n",
    "print('-' * 50)\n",
    "print(id(t3))\n",
    "t3 = np.swapaxes(t3, 1, 2)\n",
    "print(id(t3)) # 地址发生变化，说明是原地修改\n",
    "print(t3.shape)\n",
    "# print(t3) 数据不用记住，不用观察"
   ],
   "id": "551316d1be459ebb",
   "outputs": [
    {
     "name": "stdout",
     "output_type": "stream",
     "text": [
      "(3, 4, 5)\n",
      "--------------------------------------------------\n",
      "2325697816560\n",
      "2325697225008\n",
      "(3, 5, 4)\n"
     ]
    }
   ],
   "execution_count": 25
  },
  {
   "metadata": {
    "ExecuteTime": {
     "end_time": "2025-01-09T05:10:20.937098Z",
     "start_time": "2025-01-09T05:10:20.932122Z"
    }
   },
   "cell_type": "code",
   "source": [
    "# 导入 numpy 模块，用于数组操作\n",
    "import numpy as np\n",
    "\n",
    "# 创建一个四维数组，形状为 (3, 4, 5, 6)，元素全为 1\n",
    "a = np.ones((3, 4, 5, 6))  \n",
    "# np.ones((3, 4, 5, 6)) 创建一个四维数组，包含 3 个 4x5x6 的子数组\n",
    "print(id(a))\n",
    "\n",
    "# 使用 np.rollaxis 函数对数组的轴进行滚动操作\n",
    "# 将第 3 个轴（索引 3 对应的维度，即大小为 6 的轴）滚动到索引 1 的位置\n",
    "b = np.rollaxis(a, 3, 1)  \n",
    "# 参数解释：\n",
    "# - 第一个参数 `a` 是需要操作的数组\n",
    "# - 第二个参数 `3` 表示要滚动的轴（这里是第 3 个轴，大小为 6）\n",
    "# - 第三个参数 `1` 表示目标位置（滚动后的轴插入到第 1 个位置）\n",
    "print(id(b))\n",
    "# 打印滚动后数组的形状\n",
    "print(b.shape)  \n",
    "# 输出结果为 `(3, 6, 4, 5)`：\n",
    "# - 第 3 个轴（大小为 6）被移动到索引 1 的位置\n",
    "# - 其他轴的顺序相对保持不变\n"
   ],
   "id": "5a39e6fc2bc3ff80",
   "outputs": [
    {
     "name": "stdout",
     "output_type": "stream",
     "text": [
      "2325697226544\n",
      "2325697816272\n",
      "(3, 6, 4, 5)\n"
     ]
    }
   ],
   "execution_count": 30
  },
  {
   "metadata": {
    "ExecuteTime": {
     "end_time": "2025-01-09T05:10:31.938438Z",
     "start_time": "2025-01-09T05:10:31.934989Z"
    }
   },
   "cell_type": "code",
   "source": [
    "print(b.shape)\n",
    "c=np.rollaxis(b, 1,4)  #轴会滚动，直到它位于此位置之前\n",
    "print(c.shape)"
   ],
   "id": "f2b626a19188f62d",
   "outputs": [
    {
     "name": "stdout",
     "output_type": "stream",
     "text": [
      "(3, 6, 4, 5)\n",
      "(3, 4, 5, 6)\n"
     ]
    }
   ],
   "execution_count": 31
  },
  {
   "metadata": {
    "ExecuteTime": {
     "end_time": "2025-01-09T05:11:29.376524Z",
     "start_time": "2025-01-09T05:11:29.371519Z"
    }
   },
   "cell_type": "code",
   "source": [
    "#数据拷贝，copy()和赋值的区别\n",
    "b = np.array([[1, 2, 3], [1, 2, 3]])\n",
    "a = b.copy()\n",
    "a"
   ],
   "id": "55472424d67bf293",
   "outputs": [
    {
     "data": {
      "text/plain": [
       "array([[1, 2, 3],\n",
       "       [1, 2, 3]])"
      ]
     },
     "execution_count": 32,
     "metadata": {},
     "output_type": "execute_result"
    }
   ],
   "execution_count": 32
  },
  {
   "metadata": {
    "ExecuteTime": {
     "end_time": "2025-01-09T05:13:20.463233Z",
     "start_time": "2025-01-09T05:13:20.458616Z"
    }
   },
   "cell_type": "code",
   "source": [
    "b[0, 0] = 3\n",
    "print(b)\n",
    "print(id(a))\n",
    "print(id(b))\n",
    "a\n"
   ],
   "id": "44f4b78e175d488d",
   "outputs": [
    {
     "name": "stdout",
     "output_type": "stream",
     "text": [
      "[[3 2 3]\n",
      " [1 2 3]]\n",
      "2325697816272\n",
      "2325697226640\n"
     ]
    },
    {
     "data": {
      "text/plain": [
       "array([[1, 2, 3],\n",
       "       [1, 2, 3]])"
      ]
     },
     "execution_count": 35,
     "metadata": {},
     "output_type": "execute_result"
    }
   ],
   "execution_count": 35
  },
  {
   "metadata": {
    "ExecuteTime": {
     "end_time": "2025-01-09T05:13:59.234975Z",
     "start_time": "2025-01-09T05:13:59.230647Z"
    }
   },
   "cell_type": "code",
   "source": [
    "#随机数生成\n",
    "arr = np.random.rand(2, 3, 4)\n",
    "print(arr)"
   ],
   "id": "25bf88d8e6dba5b0",
   "outputs": [
    {
     "name": "stdout",
     "output_type": "stream",
     "text": [
      "[[[0.69220853 0.0989837  0.7375212  0.41325573]\n",
      "  [0.87496512 0.10305516 0.29641208 0.45937596]\n",
      "  [0.45109261 0.75216816 0.75513543 0.81190983]]\n",
      "\n",
      " [[0.7515307  0.11946054 0.27492976 0.17377026]\n",
      "  [0.94420654 0.82940108 0.37357262 0.08053428]\n",
      "  [0.07911618 0.01923178 0.13426761 0.39842635]]]\n"
     ]
    }
   ],
   "execution_count": 37
  },
  {
   "metadata": {
    "ExecuteTime": {
     "end_time": "2025-01-09T05:15:24.398563Z",
     "start_time": "2025-01-09T05:15:24.394855Z"
    }
   },
   "cell_type": "code",
   "source": [
    "names = 'zhangsan,lisi,wangwu,zhaoliu,sunqi'\n",
    "#写入文件\n",
    "with open('names.csv', 'w') as f:\n",
    "    f.write(names)\n",
    "    f.write('\\n')\n",
    "    f.write('12,23,34,45,56')"
   ],
   "id": "b18eda3670df9623",
   "outputs": [],
   "execution_count": 38
  }
 ],
 "metadata": {
  "kernelspec": {
   "display_name": "Python 3",
   "language": "python",
   "name": "python3"
  },
  "language_info": {
   "codemirror_mode": {
    "name": "ipython",
    "version": 2
   },
   "file_extension": ".py",
   "mimetype": "text/x-python",
   "name": "python",
   "nbconvert_exporter": "python",
   "pygments_lexer": "ipython2",
   "version": "2.7.6"
  }
 },
 "nbformat": 4,
 "nbformat_minor": 5
}
